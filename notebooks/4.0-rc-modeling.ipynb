{
 "cells": [
  {
   "cell_type": "markdown",
   "id": "ea3f3fd8",
   "metadata": {},
   "source": [
    "# Modeling"
   ]
  },
  {
   "cell_type": "markdown",
   "id": "6be154fd",
   "metadata": {},
   "source": [
    "## 1 Contents\n",
    "- [1 Contents](#1-Contents)\n",
    "- [2 Introduction](#2-Introduction)\n",
    "- [3 Imports](#3-Imports)\n",
    "- [4 Load Data](#4-Load-Data)\n",
    "- [5 Models](#5-Models)\n",
    "  - [5.1 Preliminary Models](#5.1-Preliminary-Models)\n",
    "    - 5.1.1 Linear regression\n",
    "    - 5.1.2 Ridge regression\n",
    "    - 5.1.3 Random forest regression\n",
    "    - 5.1.4 Gradient boosting regression\n",
    "    - 5.1.5 AdaBoost regression\n",
    "    - 5.1.6 Model scores\n",
    "  - [5.2 Hyperparameter Tuning](#5.2-Hyperparameter-Tuning)\n",
    "    - 5.2.1 Random forest regression hyperparameter tuning\n",
    "    - 5.2.2 Gradient boosting regression hyperparameter tuning\n",
    "  - [5.3 Model Selection](#5.3-Model-Selection)\n",
    "- [6 Conclusion](#6-Conclusion)"
   ]
  },
  {
   "cell_type": "markdown",
   "id": "7e36a45f",
   "metadata": {},
   "source": [
    "## 2 Introduction"
   ]
  },
  {
   "cell_type": "markdown",
   "id": "694df496",
   "metadata": {},
   "source": [
    "The purpose of this notebook is to develop a model that can predict the number of fires in a county using information about the county.\n",
    "\n",
    "A handful of regressors will be used out-of-the-box from [scikit-learn](https://scikit-learn.org/stable/index.html): `LinearRegression`, `Ridge`, `RandomForestRegressor`, `GradientBoostingRegressor`, and `AdaBoostRegressor` to get an idea of a starting point before jumping into hyperparameter tuning. As they are regressors, the metrics that will be looked at are the R-squared, root mean squared error (RMSE), and mean absolute error (MAE)."
   ]
  },
  {
   "cell_type": "markdown",
   "id": "52290378",
   "metadata": {},
   "source": [
    "## 3 Imports"
   ]
  },
  {
   "cell_type": "code",
   "execution_count": 1,
   "id": "b8303a41",
   "metadata": {},
   "outputs": [],
   "source": [
    "import pandas as pd\n",
    "import numpy as np\n",
    "import datetime\n",
    "from sklearn.linear_model import LinearRegression, Ridge\n",
    "from sklearn.metrics import mean_squared_error, mean_absolute_error\n",
    "from sklearn.ensemble import RandomForestRegressor, GradientBoostingRegressor, AdaBoostRegressor\n",
    "import matplotlib.pyplot as plt\n",
    "from sklearn.model_selection import cross_val_score, KFold, GridSearchCV\n",
    "import time\n",
    "import joblib"
   ]
  },
  {
   "cell_type": "markdown",
   "id": "56d978fe",
   "metadata": {},
   "source": [
    "## 4 Load Data"
   ]
  },
  {
   "cell_type": "code",
   "execution_count": 2,
   "id": "af8dbc31",
   "metadata": {},
   "outputs": [],
   "source": [
    "train_df = pd.read_pickle('../data/processed/3-0_train_df.pkl')\n",
    "test_df = pd.read_pickle('../data/processed/3-0_test_df.pkl')"
   ]
  },
  {
   "cell_type": "code",
   "execution_count": 3,
   "id": "a60b2098",
   "metadata": {},
   "outputs": [
    {
     "data": {
      "text/plain": [
       "((290, 60), (116, 60))"
      ]
     },
     "execution_count": 3,
     "metadata": {},
     "output_type": "execute_result"
    }
   ],
   "source": [
    "train_df.shape, test_df.shape"
   ]
  },
  {
   "cell_type": "code",
   "execution_count": 4,
   "id": "c9102ad9",
   "metadata": {},
   "outputs": [
    {
     "data": {
      "text/html": [
       "<div>\n",
       "<style scoped>\n",
       "    .dataframe tbody tr th:only-of-type {\n",
       "        vertical-align: middle;\n",
       "    }\n",
       "\n",
       "    .dataframe tbody tr th {\n",
       "        vertical-align: top;\n",
       "    }\n",
       "\n",
       "    .dataframe thead th {\n",
       "        text-align: right;\n",
       "    }\n",
       "</style>\n",
       "<table border=\"1\" class=\"dataframe\">\n",
       "  <thead>\n",
       "    <tr style=\"text-align: right;\">\n",
       "      <th></th>\n",
       "      <th>StartedYear</th>\n",
       "      <th>NumFires</th>\n",
       "      <th>Area_sqmi</th>\n",
       "      <th>DM_Alpine</th>\n",
       "      <th>DM_Amador</th>\n",
       "      <th>DM_Butte</th>\n",
       "      <th>DM_Calaveras</th>\n",
       "      <th>DM_Colusa</th>\n",
       "      <th>DM_Contra Costa</th>\n",
       "      <th>DM_Del Norte</th>\n",
       "      <th>...</th>\n",
       "      <th>DM_Sonoma</th>\n",
       "      <th>DM_Stanislaus</th>\n",
       "      <th>DM_Sutter</th>\n",
       "      <th>DM_Tehama</th>\n",
       "      <th>DM_Trinity</th>\n",
       "      <th>DM_Tulare</th>\n",
       "      <th>DM_Tuolumne</th>\n",
       "      <th>DM_Ventura</th>\n",
       "      <th>DM_Yolo</th>\n",
       "      <th>DM_Yuba</th>\n",
       "    </tr>\n",
       "  </thead>\n",
       "  <tbody>\n",
       "    <tr>\n",
       "      <th>0</th>\n",
       "      <td>2013</td>\n",
       "      <td>4</td>\n",
       "      <td>738</td>\n",
       "      <td>0</td>\n",
       "      <td>0</td>\n",
       "      <td>0</td>\n",
       "      <td>0</td>\n",
       "      <td>0</td>\n",
       "      <td>0</td>\n",
       "      <td>0</td>\n",
       "      <td>...</td>\n",
       "      <td>0</td>\n",
       "      <td>0</td>\n",
       "      <td>0</td>\n",
       "      <td>0</td>\n",
       "      <td>0</td>\n",
       "      <td>0</td>\n",
       "      <td>0</td>\n",
       "      <td>0</td>\n",
       "      <td>0</td>\n",
       "      <td>0</td>\n",
       "    </tr>\n",
       "    <tr>\n",
       "      <th>1</th>\n",
       "      <td>2014</td>\n",
       "      <td>0</td>\n",
       "      <td>738</td>\n",
       "      <td>0</td>\n",
       "      <td>0</td>\n",
       "      <td>0</td>\n",
       "      <td>0</td>\n",
       "      <td>0</td>\n",
       "      <td>0</td>\n",
       "      <td>0</td>\n",
       "      <td>...</td>\n",
       "      <td>0</td>\n",
       "      <td>0</td>\n",
       "      <td>0</td>\n",
       "      <td>0</td>\n",
       "      <td>0</td>\n",
       "      <td>0</td>\n",
       "      <td>0</td>\n",
       "      <td>0</td>\n",
       "      <td>0</td>\n",
       "      <td>0</td>\n",
       "    </tr>\n",
       "    <tr>\n",
       "      <th>2</th>\n",
       "      <td>2015</td>\n",
       "      <td>5</td>\n",
       "      <td>738</td>\n",
       "      <td>0</td>\n",
       "      <td>0</td>\n",
       "      <td>0</td>\n",
       "      <td>0</td>\n",
       "      <td>0</td>\n",
       "      <td>0</td>\n",
       "      <td>0</td>\n",
       "      <td>...</td>\n",
       "      <td>0</td>\n",
       "      <td>0</td>\n",
       "      <td>0</td>\n",
       "      <td>0</td>\n",
       "      <td>0</td>\n",
       "      <td>0</td>\n",
       "      <td>0</td>\n",
       "      <td>0</td>\n",
       "      <td>0</td>\n",
       "      <td>0</td>\n",
       "    </tr>\n",
       "  </tbody>\n",
       "</table>\n",
       "<p>3 rows × 60 columns</p>\n",
       "</div>"
      ],
      "text/plain": [
       "   StartedYear  NumFires  Area_sqmi  DM_Alpine  DM_Amador  DM_Butte  \\\n",
       "0         2013         4        738          0          0         0   \n",
       "1         2014         0        738          0          0         0   \n",
       "2         2015         5        738          0          0         0   \n",
       "\n",
       "   DM_Calaveras  DM_Colusa  DM_Contra Costa  DM_Del Norte  ...  DM_Sonoma  \\\n",
       "0             0          0                0             0  ...          0   \n",
       "1             0          0                0             0  ...          0   \n",
       "2             0          0                0             0  ...          0   \n",
       "\n",
       "   DM_Stanislaus  DM_Sutter  DM_Tehama  DM_Trinity  DM_Tulare  DM_Tuolumne  \\\n",
       "0              0          0          0           0          0            0   \n",
       "1              0          0          0           0          0            0   \n",
       "2              0          0          0           0          0            0   \n",
       "\n",
       "   DM_Ventura  DM_Yolo  DM_Yuba  \n",
       "0           0        0        0  \n",
       "1           0        0        0  \n",
       "2           0        0        0  \n",
       "\n",
       "[3 rows x 60 columns]"
      ]
     },
     "execution_count": 4,
     "metadata": {},
     "output_type": "execute_result"
    }
   ],
   "source": [
    "train_df.head(3)"
   ]
  },
  {
   "cell_type": "code",
   "execution_count": 5,
   "id": "08d362e0",
   "metadata": {},
   "outputs": [
    {
     "data": {
      "text/html": [
       "<div>\n",
       "<style scoped>\n",
       "    .dataframe tbody tr th:only-of-type {\n",
       "        vertical-align: middle;\n",
       "    }\n",
       "\n",
       "    .dataframe tbody tr th {\n",
       "        vertical-align: top;\n",
       "    }\n",
       "\n",
       "    .dataframe thead th {\n",
       "        text-align: right;\n",
       "    }\n",
       "</style>\n",
       "<table border=\"1\" class=\"dataframe\">\n",
       "  <thead>\n",
       "    <tr style=\"text-align: right;\">\n",
       "      <th></th>\n",
       "      <th>StartedYear</th>\n",
       "      <th>NumFires</th>\n",
       "      <th>Area_sqmi</th>\n",
       "      <th>DM_Alpine</th>\n",
       "      <th>DM_Amador</th>\n",
       "      <th>DM_Butte</th>\n",
       "      <th>DM_Calaveras</th>\n",
       "      <th>DM_Colusa</th>\n",
       "      <th>DM_Contra Costa</th>\n",
       "      <th>DM_Del Norte</th>\n",
       "      <th>...</th>\n",
       "      <th>DM_Sonoma</th>\n",
       "      <th>DM_Stanislaus</th>\n",
       "      <th>DM_Sutter</th>\n",
       "      <th>DM_Tehama</th>\n",
       "      <th>DM_Trinity</th>\n",
       "      <th>DM_Tulare</th>\n",
       "      <th>DM_Tuolumne</th>\n",
       "      <th>DM_Ventura</th>\n",
       "      <th>DM_Yolo</th>\n",
       "      <th>DM_Yuba</th>\n",
       "    </tr>\n",
       "  </thead>\n",
       "  <tbody>\n",
       "    <tr>\n",
       "      <th>5</th>\n",
       "      <td>2018</td>\n",
       "      <td>8</td>\n",
       "      <td>738</td>\n",
       "      <td>0</td>\n",
       "      <td>0</td>\n",
       "      <td>0</td>\n",
       "      <td>0</td>\n",
       "      <td>0</td>\n",
       "      <td>0</td>\n",
       "      <td>0</td>\n",
       "      <td>...</td>\n",
       "      <td>0</td>\n",
       "      <td>0</td>\n",
       "      <td>0</td>\n",
       "      <td>0</td>\n",
       "      <td>0</td>\n",
       "      <td>0</td>\n",
       "      <td>0</td>\n",
       "      <td>0</td>\n",
       "      <td>0</td>\n",
       "      <td>0</td>\n",
       "    </tr>\n",
       "    <tr>\n",
       "      <th>6</th>\n",
       "      <td>2019</td>\n",
       "      <td>9</td>\n",
       "      <td>738</td>\n",
       "      <td>0</td>\n",
       "      <td>0</td>\n",
       "      <td>0</td>\n",
       "      <td>0</td>\n",
       "      <td>0</td>\n",
       "      <td>0</td>\n",
       "      <td>0</td>\n",
       "      <td>...</td>\n",
       "      <td>0</td>\n",
       "      <td>0</td>\n",
       "      <td>0</td>\n",
       "      <td>0</td>\n",
       "      <td>0</td>\n",
       "      <td>0</td>\n",
       "      <td>0</td>\n",
       "      <td>0</td>\n",
       "      <td>0</td>\n",
       "      <td>0</td>\n",
       "    </tr>\n",
       "    <tr>\n",
       "      <th>12</th>\n",
       "      <td>2018</td>\n",
       "      <td>0</td>\n",
       "      <td>739</td>\n",
       "      <td>1</td>\n",
       "      <td>0</td>\n",
       "      <td>0</td>\n",
       "      <td>0</td>\n",
       "      <td>0</td>\n",
       "      <td>0</td>\n",
       "      <td>0</td>\n",
       "      <td>...</td>\n",
       "      <td>0</td>\n",
       "      <td>0</td>\n",
       "      <td>0</td>\n",
       "      <td>0</td>\n",
       "      <td>0</td>\n",
       "      <td>0</td>\n",
       "      <td>0</td>\n",
       "      <td>0</td>\n",
       "      <td>0</td>\n",
       "      <td>0</td>\n",
       "    </tr>\n",
       "  </tbody>\n",
       "</table>\n",
       "<p>3 rows × 60 columns</p>\n",
       "</div>"
      ],
      "text/plain": [
       "    StartedYear  NumFires  Area_sqmi  DM_Alpine  DM_Amador  DM_Butte  \\\n",
       "5          2018         8        738          0          0         0   \n",
       "6          2019         9        738          0          0         0   \n",
       "12         2018         0        739          1          0         0   \n",
       "\n",
       "    DM_Calaveras  DM_Colusa  DM_Contra Costa  DM_Del Norte  ...  DM_Sonoma  \\\n",
       "5              0          0                0             0  ...          0   \n",
       "6              0          0                0             0  ...          0   \n",
       "12             0          0                0             0  ...          0   \n",
       "\n",
       "    DM_Stanislaus  DM_Sutter  DM_Tehama  DM_Trinity  DM_Tulare  DM_Tuolumne  \\\n",
       "5               0          0          0           0          0            0   \n",
       "6               0          0          0           0          0            0   \n",
       "12              0          0          0           0          0            0   \n",
       "\n",
       "    DM_Ventura  DM_Yolo  DM_Yuba  \n",
       "5            0        0        0  \n",
       "6            0        0        0  \n",
       "12           0        0        0  \n",
       "\n",
       "[3 rows x 60 columns]"
      ]
     },
     "execution_count": 5,
     "metadata": {},
     "output_type": "execute_result"
    }
   ],
   "source": [
    "test_df.head(3)"
   ]
  },
  {
   "cell_type": "code",
   "execution_count": 6,
   "id": "01fdef1e",
   "metadata": {},
   "outputs": [
    {
     "data": {
      "text/plain": [
       "count    290.000000\n",
       "mean       3.582759\n",
       "std        5.021240\n",
       "min        0.000000\n",
       "25%        1.000000\n",
       "50%        2.000000\n",
       "75%        5.000000\n",
       "max       52.000000\n",
       "Name: NumFires, dtype: float64"
      ]
     },
     "execution_count": 6,
     "metadata": {},
     "output_type": "execute_result"
    }
   ],
   "source": [
    "train_df['NumFires'].describe()"
   ]
  },
  {
   "cell_type": "code",
   "execution_count": 7,
   "id": "6400f948",
   "metadata": {},
   "outputs": [
    {
     "data": {
      "text/plain": [
       "count     290.000000\n",
       "mean     2015.000000\n",
       "std         1.416658\n",
       "min      2013.000000\n",
       "25%      2014.000000\n",
       "50%      2015.000000\n",
       "75%      2016.000000\n",
       "max      2017.000000\n",
       "Name: StartedYear, dtype: float64"
      ]
     },
     "execution_count": 7,
     "metadata": {},
     "output_type": "execute_result"
    }
   ],
   "source": [
    "train_df['StartedYear'].describe()"
   ]
  },
  {
   "cell_type": "code",
   "execution_count": 8,
   "id": "f7de3e91",
   "metadata": {},
   "outputs": [
    {
     "data": {
      "text/plain": [
       "count     116.000000\n",
       "mean     2018.500000\n",
       "std         0.502169\n",
       "min      2018.000000\n",
       "25%      2018.000000\n",
       "50%      2018.500000\n",
       "75%      2019.000000\n",
       "max      2019.000000\n",
       "Name: StartedYear, dtype: float64"
      ]
     },
     "execution_count": 8,
     "metadata": {},
     "output_type": "execute_result"
    }
   ],
   "source": [
    "test_df['StartedYear'].describe()"
   ]
  },
  {
   "cell_type": "markdown",
   "id": "c93d6140",
   "metadata": {},
   "source": [
    "## 5 Models"
   ]
  },
  {
   "cell_type": "markdown",
   "id": "cfb769ce",
   "metadata": {},
   "source": [
    "Before beginning, the training and testing dataframes are split into the independent and dependent variables."
   ]
  },
  {
   "cell_type": "code",
   "execution_count": 9,
   "id": "77fe8a9e",
   "metadata": {},
   "outputs": [],
   "source": [
    "X_var_names = ['Area_sqmi']\n",
    "y_var_name = 'NumFires'"
   ]
  },
  {
   "cell_type": "code",
   "execution_count": 10,
   "id": "7c86e5b0",
   "metadata": {},
   "outputs": [],
   "source": [
    "X_train = train_df.drop([y_var_name,'StartedYear'], axis=1).values\n",
    "y_train = train_df[y_var_name].values\n",
    "X_test = test_df.drop([y_var_name,'StartedYear'], axis=1).values\n",
    "y_test = test_df[y_var_name].values\n",
    "\n",
    "model_scores = []"
   ]
  },
  {
   "cell_type": "markdown",
   "id": "cdc801a6",
   "metadata": {},
   "source": [
    "### 5.1 Preliminary Models"
   ]
  },
  {
   "cell_type": "markdown",
   "id": "cac3402c",
   "metadata": {},
   "source": [
    "Two functions are defined for reuse on some preliminary models: `get_scores()` will get the R-squared, RMSE, and MAE for a model, and `print_scores()` simply assists in printing these values."
   ]
  },
  {
   "cell_type": "code",
   "execution_count": 11,
   "id": "d5f31394",
   "metadata": {},
   "outputs": [],
   "source": [
    "def get_scores(model, X_train, y_train, X_test, y_test, name, want_print=True):\n",
    "    \"\"\"\n",
    "    This function finds the R^2, RMSE, and MAE. It can print the scores.\n",
    "    \n",
    "    model - The model that will fit, predict, and score.\n",
    "    X_train, y_train - The training set\n",
    "    X_test, y_test - The testing set\n",
    "    name - The name of the model\n",
    "    want_print - If true, will print the three scores\n",
    "    \"\"\"\n",
    "    model.fit(X_train, y_train)\n",
    "    y_pred = model.predict(X_test)\n",
    "    r_squared = model.score(X_test, y_test)\n",
    "    rmse = mean_squared_error(y_test, y_pred, squared=False)\n",
    "    mae = mean_absolute_error(y_test, y_pred)\n",
    "    scores = [name, r_squared, rmse, mae]\n",
    "    if (want_print):\n",
    "        print_scores(scores)\n",
    "    return scores"
   ]
  },
  {
   "cell_type": "code",
   "execution_count": 12,
   "id": "340001c8",
   "metadata": {},
   "outputs": [],
   "source": [
    "def print_scores(scores):\n",
    "    \"\"\"\n",
    "    This function prints the name of a model and its R^2, MSE, and MAE.\n",
    "    scores - a list containing the name, R^2, MSE, and MAE, in this order\n",
    "    \"\"\"\n",
    "    if (len(scores) >= 4):\n",
    "        print(\"{}:\".format(scores[0]))\n",
    "        print(\"\\tR^2 = {}\".format(scores[1]))\n",
    "        print(\"\\tMSE = {}\".format(scores[2]))\n",
    "        print(\"\\tMAE = {}\".format(scores[3]))\n",
    "    else:\n",
    "        print(\"Check scores array.\")"
   ]
  },
  {
   "cell_type": "markdown",
   "id": "5fe35440",
   "metadata": {},
   "source": [
    "#### 5.1.1 Linear regression"
   ]
  },
  {
   "cell_type": "markdown",
   "id": "efeab421",
   "metadata": {},
   "source": [
    "A linear regression model is tried first. Something to keep in mind with this is that some of our X features are correlated with one another."
   ]
  },
  {
   "cell_type": "code",
   "execution_count": 13,
   "id": "7941d077",
   "metadata": {},
   "outputs": [
    {
     "name": "stdout",
     "output_type": "stream",
     "text": [
      "Linear:\n",
      "\tR^2 = 0.5737930561116402\n",
      "\tMSE = 3.3279381625555176\n",
      "\tMAE = 2.2241379310358362\n"
     ]
    }
   ],
   "source": [
    "lr_model = LinearRegression()\n",
    "lr_scores = get_scores(lr_model, X_train, y_train, X_test, y_test, \"Linear\")\n",
    "model_scores.append(lr_scores)"
   ]
  },
  {
   "cell_type": "code",
   "execution_count": 14,
   "id": "34872500",
   "metadata": {
    "scrolled": true
   },
   "outputs": [
    {
     "name": "stdout",
     "output_type": "stream",
     "text": [
      "[ 0.20943661  0.06133545  0.30961762 -0.30801849  0.11434415]\n",
      "0.07734306979844996 0.21048944430116215\n"
     ]
    }
   ],
   "source": [
    "kf = KFold(n_splits=5, shuffle=True, random_state=42)\n",
    "cv_scores = cross_val_score(LinearRegression(), X_train, y_train, cv=kf, scoring='r2')\n",
    "print(cv_scores)\n",
    "print(np.mean(cv_scores), np.std(cv_scores))"
   ]
  },
  {
   "cell_type": "markdown",
   "id": "2308289a",
   "metadata": {},
   "source": [
    "#### 5.1.2 Ridge regression"
   ]
  },
  {
   "cell_type": "markdown",
   "id": "0b2e8e91",
   "metadata": {},
   "source": [
    "Ridge regression will also be tried. However, as seen below, the closer alpha gets to 0, the better it seems to perform, so it just approaches linear regression."
   ]
  },
  {
   "cell_type": "code",
   "execution_count": 15,
   "id": "03bb5c3c",
   "metadata": {},
   "outputs": [
    {
     "name": "stdout",
     "output_type": "stream",
     "text": [
      "Ridge alpha=0.01:\n",
      "\tR^2 = 0.5731641110344374\n",
      "\tMSE = 3.3303927432948743\n",
      "\tMAE = 2.2255270827578078\n",
      "Ridge alpha=0.1:\n",
      "\tR^2 = 0.5683078105064282\n",
      "\tMSE = 3.3492848343311374\n",
      "\tMAE = 2.235868424760108\n",
      "Ridge alpha=1.0:\n",
      "\tR^2 = 0.5277641743518511\n",
      "\tMSE = 3.5030348104443076\n",
      "\tMAE = 2.3108689380531757\n",
      "Ridge alpha=10.0:\n",
      "\tR^2 = 0.2916925412358685\n",
      "\tMSE = 4.290183763718797\n",
      "\tMAE = 2.8493957883170355\n",
      "Ridge alpha=100.0:\n",
      "\tR^2 = 0.08587922682819393\n",
      "\tMSE = 4.873789595972174\n",
      "\tMAE = 3.2320981675773\n",
      "Ridge alpha=1000.0:\n",
      "\tR^2 = 0.05073065319439096\n",
      "\tMSE = 4.966606081260391\n",
      "\tMAE = 3.290591672820366\n"
     ]
    }
   ],
   "source": [
    "for alpha in [0.01, 0.1, 1.0, 10.0, 100.0, 1000.0]:\n",
    "    ridge_model = Ridge(alpha=alpha)\n",
    "    name = \"Ridge alpha=\" + str(alpha)\n",
    "    ridge_scores = get_scores(ridge_model, X_train, y_train, X_test, y_test, name)\n",
    "    model_scores.append(ridge_scores)"
   ]
  },
  {
   "cell_type": "code",
   "execution_count": 16,
   "id": "436bca08",
   "metadata": {},
   "outputs": [
    {
     "name": "stdout",
     "output_type": "stream",
     "text": [
      "[ 0.21033502  0.08893358  0.3170025  -0.27629946  0.12258279]\n",
      "0.09251088652974426 0.20060767873472457\n"
     ]
    }
   ],
   "source": [
    "ridge = Ridge(alpha=0.1)\n",
    "cv_scores = cross_val_score(ridge, X_train, y_train, cv=kf, scoring='r2')\n",
    "print(cv_scores)\n",
    "print(np.mean(cv_scores), np.std(cv_scores))"
   ]
  },
  {
   "cell_type": "markdown",
   "id": "66602f88",
   "metadata": {},
   "source": [
    "#### 5.1.3 Random forest regression"
   ]
  },
  {
   "cell_type": "markdown",
   "id": "cdaa8461",
   "metadata": {},
   "source": [
    "Regressions based on decision trees seem promising, knowing that the dataset has a bit of correlation and due to the numerous categorical features, so Random Forest, Gradient Boost, and AdaBoost will be tested as well. For the preliminary models, the hyperparameters will be arbitrarily chosen."
   ]
  },
  {
   "cell_type": "code",
   "execution_count": 17,
   "id": "ff21c204",
   "metadata": {},
   "outputs": [
    {
     "name": "stdout",
     "output_type": "stream",
     "text": [
      "Random Forest:\n",
      "\tR^2 = 0.3789109539806549\n",
      "\tMSE = 4.017370834001976\n",
      "\tMAE = 2.830672100995492\n"
     ]
    }
   ],
   "source": [
    "rfr_model = RandomForestRegressor(max_depth=2, random_state=42)\n",
    "rfr_scores = get_scores(rfr_model, X_train, y_train, X_test, y_test, \"Random Forest\")\n",
    "model_scores.append(rfr_scores)"
   ]
  },
  {
   "cell_type": "code",
   "execution_count": 18,
   "id": "24b153e8",
   "metadata": {},
   "outputs": [
    {
     "name": "stdout",
     "output_type": "stream",
     "text": [
      "[ 0.12336459  0.04455502  0.27197418 -0.48252105  0.10456381]\n",
      "0.012387310743723744 0.25852150804222807\n"
     ]
    }
   ],
   "source": [
    "rfr_model = RandomForestRegressor(max_depth=2, random_state=42)\n",
    "cv_scores = cross_val_score(rfr_model, X_train, y_train, cv=kf, scoring='r2')\n",
    "print(cv_scores)\n",
    "print(np.mean(cv_scores), np.std(cv_scores))"
   ]
  },
  {
   "cell_type": "markdown",
   "id": "3fa8dbb5",
   "metadata": {},
   "source": [
    "#### 5.1.4 Gradient boosting regression"
   ]
  },
  {
   "cell_type": "code",
   "execution_count": 19,
   "id": "0e2801c6",
   "metadata": {},
   "outputs": [
    {
     "name": "stdout",
     "output_type": "stream",
     "text": [
      "Gradient Boosting:\n",
      "\tR^2 = 0.45493686093664953\n",
      "\tMSE = 3.7634694405365106\n",
      "\tMAE = 2.5889782142452558\n"
     ]
    }
   ],
   "source": [
    "gbr_model = GradientBoostingRegressor(\n",
    "    n_estimators=100, learning_rate=0.1, max_depth=1, random_state=42, loss='squared_error')\n",
    "gbr_scores = get_scores(gbr_model, X_train, y_train, X_test, y_test, \"Gradient Boosting\")\n",
    "model_scores.append(gbr_scores)"
   ]
  },
  {
   "cell_type": "code",
   "execution_count": 20,
   "id": "b737b8f3",
   "metadata": {},
   "outputs": [
    {
     "name": "stdout",
     "output_type": "stream",
     "text": [
      "[ 0.16312377  0.1506271   0.33937988 -0.18682361  0.12375011]\n",
      "0.11801144807631694 0.17032922908488768\n"
     ]
    }
   ],
   "source": [
    "gbr_model = GradientBoostingRegressor(\n",
    "    n_estimators=100, learning_rate=0.1, max_depth=1, random_state=42,\n",
    "    loss='squared_error')\n",
    "cv_scores = cross_val_score(gbr_model, X_train, y_train, cv=kf, scoring='r2')\n",
    "print(cv_scores)\n",
    "print(np.mean(cv_scores), np.std(cv_scores))"
   ]
  },
  {
   "cell_type": "markdown",
   "id": "13cb3685",
   "metadata": {},
   "source": [
    "#### 5.1.5 AdaBoost regression"
   ]
  },
  {
   "cell_type": "code",
   "execution_count": 21,
   "id": "2c4a4cbd",
   "metadata": {},
   "outputs": [
    {
     "name": "stdout",
     "output_type": "stream",
     "text": [
      "Ada Boost:\n",
      "\tR^2 = 0.5196199252084779\n",
      "\tMSE = 3.533112612391143\n",
      "\tMAE = 2.608357783747684\n"
     ]
    }
   ],
   "source": [
    "adab_model = AdaBoostRegressor(n_estimators=50, random_state=42, learning_rate=0.2)\n",
    "adab_scores = get_scores(adab_model, X_train, y_train, X_test, y_test, \"Ada Boost\")\n",
    "model_scores.append(adab_scores)"
   ]
  },
  {
   "cell_type": "code",
   "execution_count": 22,
   "id": "260b217a",
   "metadata": {},
   "outputs": [
    {
     "name": "stdout",
     "output_type": "stream",
     "text": [
      "[ 0.13129005 -0.49845456  0.24322994 -1.1235173   0.09045313]\n",
      "-0.23139974697150523 0.5152860382903797\n"
     ]
    }
   ],
   "source": [
    "adab_model = AdaBoostRegressor(n_estimators=50, random_state=42, learning_rate=0.2)\n",
    "cv_scores = cross_val_score(adab_model, X_train, y_train, cv=kf, scoring='r2')\n",
    "print(cv_scores)\n",
    "print(np.mean(cv_scores), np.std(cv_scores))"
   ]
  },
  {
   "cell_type": "markdown",
   "id": "2f12f90d",
   "metadata": {},
   "source": [
    "#### 5.1.6 Model scores"
   ]
  },
  {
   "cell_type": "code",
   "execution_count": 23,
   "id": "ea9bd88d",
   "metadata": {},
   "outputs": [
    {
     "data": {
      "text/html": [
       "<div>\n",
       "<style scoped>\n",
       "    .dataframe tbody tr th:only-of-type {\n",
       "        vertical-align: middle;\n",
       "    }\n",
       "\n",
       "    .dataframe tbody tr th {\n",
       "        vertical-align: top;\n",
       "    }\n",
       "\n",
       "    .dataframe thead th {\n",
       "        text-align: right;\n",
       "    }\n",
       "</style>\n",
       "<table border=\"1\" class=\"dataframe\">\n",
       "  <thead>\n",
       "    <tr style=\"text-align: right;\">\n",
       "      <th></th>\n",
       "      <th>Name</th>\n",
       "      <th>R^2</th>\n",
       "      <th>RMSE</th>\n",
       "      <th>MAE</th>\n",
       "    </tr>\n",
       "  </thead>\n",
       "  <tbody>\n",
       "    <tr>\n",
       "      <th>0</th>\n",
       "      <td>Linear</td>\n",
       "      <td>0.573793</td>\n",
       "      <td>3.327938</td>\n",
       "      <td>2.224138</td>\n",
       "    </tr>\n",
       "    <tr>\n",
       "      <th>1</th>\n",
       "      <td>Ridge alpha=0.01</td>\n",
       "      <td>0.573164</td>\n",
       "      <td>3.330393</td>\n",
       "      <td>2.225527</td>\n",
       "    </tr>\n",
       "    <tr>\n",
       "      <th>2</th>\n",
       "      <td>Ridge alpha=0.1</td>\n",
       "      <td>0.568308</td>\n",
       "      <td>3.349285</td>\n",
       "      <td>2.235868</td>\n",
       "    </tr>\n",
       "    <tr>\n",
       "      <th>3</th>\n",
       "      <td>Ridge alpha=1.0</td>\n",
       "      <td>0.527764</td>\n",
       "      <td>3.503035</td>\n",
       "      <td>2.310869</td>\n",
       "    </tr>\n",
       "    <tr>\n",
       "      <th>4</th>\n",
       "      <td>Ridge alpha=10.0</td>\n",
       "      <td>0.291693</td>\n",
       "      <td>4.290184</td>\n",
       "      <td>2.849396</td>\n",
       "    </tr>\n",
       "    <tr>\n",
       "      <th>5</th>\n",
       "      <td>Ridge alpha=100.0</td>\n",
       "      <td>0.085879</td>\n",
       "      <td>4.873790</td>\n",
       "      <td>3.232098</td>\n",
       "    </tr>\n",
       "    <tr>\n",
       "      <th>6</th>\n",
       "      <td>Ridge alpha=1000.0</td>\n",
       "      <td>0.050731</td>\n",
       "      <td>4.966606</td>\n",
       "      <td>3.290592</td>\n",
       "    </tr>\n",
       "    <tr>\n",
       "      <th>7</th>\n",
       "      <td>Random Forest</td>\n",
       "      <td>0.378911</td>\n",
       "      <td>4.017371</td>\n",
       "      <td>2.830672</td>\n",
       "    </tr>\n",
       "    <tr>\n",
       "      <th>8</th>\n",
       "      <td>Gradient Boosting</td>\n",
       "      <td>0.454937</td>\n",
       "      <td>3.763469</td>\n",
       "      <td>2.588978</td>\n",
       "    </tr>\n",
       "    <tr>\n",
       "      <th>9</th>\n",
       "      <td>Ada Boost</td>\n",
       "      <td>0.519620</td>\n",
       "      <td>3.533113</td>\n",
       "      <td>2.608358</td>\n",
       "    </tr>\n",
       "  </tbody>\n",
       "</table>\n",
       "</div>"
      ],
      "text/plain": [
       "                 Name       R^2      RMSE       MAE\n",
       "0              Linear  0.573793  3.327938  2.224138\n",
       "1    Ridge alpha=0.01  0.573164  3.330393  2.225527\n",
       "2     Ridge alpha=0.1  0.568308  3.349285  2.235868\n",
       "3     Ridge alpha=1.0  0.527764  3.503035  2.310869\n",
       "4    Ridge alpha=10.0  0.291693  4.290184  2.849396\n",
       "5   Ridge alpha=100.0  0.085879  4.873790  3.232098\n",
       "6  Ridge alpha=1000.0  0.050731  4.966606  3.290592\n",
       "7       Random Forest  0.378911  4.017371  2.830672\n",
       "8   Gradient Boosting  0.454937  3.763469  2.588978\n",
       "9           Ada Boost  0.519620  3.533113  2.608358"
      ]
     },
     "execution_count": 23,
     "metadata": {},
     "output_type": "execute_result"
    }
   ],
   "source": [
    "model_scores_df = pd.DataFrame(model_scores, columns=['Name','R^2','RMSE','MAE'])\n",
    "model_scores_df"
   ]
  },
  {
   "cell_type": "markdown",
   "id": "b80f492d",
   "metadata": {},
   "source": [
    "The tree-based regressors performed generally worse than the linear regressor, but their RMSE and MAE were not worse by very much. These performances surely can be improved, since their hyperparameters were not so thoughtfully selected.\n",
    "\n",
    "Overall, the CV scores were not too great, especially for the AdaBoost regressor. The Linear and Random Forest regressors also produce somewhat stronger negative R-squared, and they have somewhat high standard deviations. Moving forward, the hyperparameters of the Random Forest and Gradient Boosting regressors will be tuned."
   ]
  },
  {
   "cell_type": "markdown",
   "id": "01d82492",
   "metadata": {},
   "source": [
    "### 5.2 Hyperparameter Tuning"
   ]
  },
  {
   "cell_type": "markdown",
   "id": "e8f0f760",
   "metadata": {},
   "source": [
    "#### 5.2.1 Random forest regression hyperparameter tuning"
   ]
  },
  {
   "cell_type": "markdown",
   "id": "770b64e7",
   "metadata": {},
   "source": [
    "For the `RandomForestRegressor`, we can tune for `n_estimators` and `max_features`."
   ]
  },
  {
   "cell_type": "code",
   "execution_count": 24,
   "id": "43b057f0",
   "metadata": {},
   "outputs": [],
   "source": [
    "n_ests = [int(n) for n in np.logspace(start=1, stop=3, num=20)]\n",
    "params = {\n",
    "    'n_estimators': n_ests,\n",
    "    'max_features': [0.2,0.4,0.6,0.8,1.0]\n",
    "}\n",
    "rfr_grid_cv = GridSearchCV(estimator=RandomForestRegressor(random_state=42),\n",
    "             param_grid=params, cv=5, n_jobs=-1)"
   ]
  },
  {
   "cell_type": "code",
   "execution_count": 25,
   "id": "38ad172e",
   "metadata": {},
   "outputs": [
    {
     "data": {
      "text/html": [
       "<style>#sk-container-id-1 {color: black;background-color: white;}#sk-container-id-1 pre{padding: 0;}#sk-container-id-1 div.sk-toggleable {background-color: white;}#sk-container-id-1 label.sk-toggleable__label {cursor: pointer;display: block;width: 100%;margin-bottom: 0;padding: 0.3em;box-sizing: border-box;text-align: center;}#sk-container-id-1 label.sk-toggleable__label-arrow:before {content: \"▸\";float: left;margin-right: 0.25em;color: #696969;}#sk-container-id-1 label.sk-toggleable__label-arrow:hover:before {color: black;}#sk-container-id-1 div.sk-estimator:hover label.sk-toggleable__label-arrow:before {color: black;}#sk-container-id-1 div.sk-toggleable__content {max-height: 0;max-width: 0;overflow: hidden;text-align: left;background-color: #f0f8ff;}#sk-container-id-1 div.sk-toggleable__content pre {margin: 0.2em;color: black;border-radius: 0.25em;background-color: #f0f8ff;}#sk-container-id-1 input.sk-toggleable__control:checked~div.sk-toggleable__content {max-height: 200px;max-width: 100%;overflow: auto;}#sk-container-id-1 input.sk-toggleable__control:checked~label.sk-toggleable__label-arrow:before {content: \"▾\";}#sk-container-id-1 div.sk-estimator input.sk-toggleable__control:checked~label.sk-toggleable__label {background-color: #d4ebff;}#sk-container-id-1 div.sk-label input.sk-toggleable__control:checked~label.sk-toggleable__label {background-color: #d4ebff;}#sk-container-id-1 input.sk-hidden--visually {border: 0;clip: rect(1px 1px 1px 1px);clip: rect(1px, 1px, 1px, 1px);height: 1px;margin: -1px;overflow: hidden;padding: 0;position: absolute;width: 1px;}#sk-container-id-1 div.sk-estimator {font-family: monospace;background-color: #f0f8ff;border: 1px dotted black;border-radius: 0.25em;box-sizing: border-box;margin-bottom: 0.5em;}#sk-container-id-1 div.sk-estimator:hover {background-color: #d4ebff;}#sk-container-id-1 div.sk-parallel-item::after {content: \"\";width: 100%;border-bottom: 1px solid gray;flex-grow: 1;}#sk-container-id-1 div.sk-label:hover label.sk-toggleable__label {background-color: #d4ebff;}#sk-container-id-1 div.sk-serial::before {content: \"\";position: absolute;border-left: 1px solid gray;box-sizing: border-box;top: 0;bottom: 0;left: 50%;z-index: 0;}#sk-container-id-1 div.sk-serial {display: flex;flex-direction: column;align-items: center;background-color: white;padding-right: 0.2em;padding-left: 0.2em;position: relative;}#sk-container-id-1 div.sk-item {position: relative;z-index: 1;}#sk-container-id-1 div.sk-parallel {display: flex;align-items: stretch;justify-content: center;background-color: white;position: relative;}#sk-container-id-1 div.sk-item::before, #sk-container-id-1 div.sk-parallel-item::before {content: \"\";position: absolute;border-left: 1px solid gray;box-sizing: border-box;top: 0;bottom: 0;left: 50%;z-index: -1;}#sk-container-id-1 div.sk-parallel-item {display: flex;flex-direction: column;z-index: 1;position: relative;background-color: white;}#sk-container-id-1 div.sk-parallel-item:first-child::after {align-self: flex-end;width: 50%;}#sk-container-id-1 div.sk-parallel-item:last-child::after {align-self: flex-start;width: 50%;}#sk-container-id-1 div.sk-parallel-item:only-child::after {width: 0;}#sk-container-id-1 div.sk-dashed-wrapped {border: 1px dashed gray;margin: 0 0.4em 0.5em 0.4em;box-sizing: border-box;padding-bottom: 0.4em;background-color: white;}#sk-container-id-1 div.sk-label label {font-family: monospace;font-weight: bold;display: inline-block;line-height: 1.2em;}#sk-container-id-1 div.sk-label-container {text-align: center;}#sk-container-id-1 div.sk-container {/* jupyter's `normalize.less` sets `[hidden] { display: none; }` but bootstrap.min.css set `[hidden] { display: none !important; }` so we also need the `!important` here to be able to override the default hidden behavior on the sphinx rendered scikit-learn.org. See: https://github.com/scikit-learn/scikit-learn/issues/21755 */display: inline-block !important;position: relative;}#sk-container-id-1 div.sk-text-repr-fallback {display: none;}</style><div id=\"sk-container-id-1\" class=\"sk-top-container\"><div class=\"sk-text-repr-fallback\"><pre>GridSearchCV(cv=5, estimator=RandomForestRegressor(random_state=42), n_jobs=-1,\n",
       "             param_grid={&#x27;max_features&#x27;: [0.2, 0.4, 0.6, 0.8, 1.0],\n",
       "                         &#x27;n_estimators&#x27;: [10, 12, 16, 20, 26, 33, 42, 54, 69,\n",
       "                                          88, 112, 143, 183, 233, 297, 379, 483,\n",
       "                                          615, 784, 1000]})</pre><b>In a Jupyter environment, please rerun this cell to show the HTML representation or trust the notebook. <br />On GitHub, the HTML representation is unable to render, please try loading this page with nbviewer.org.</b></div><div class=\"sk-container\" hidden><div class=\"sk-item sk-dashed-wrapped\"><div class=\"sk-label-container\"><div class=\"sk-label sk-toggleable\"><input class=\"sk-toggleable__control sk-hidden--visually\" id=\"sk-estimator-id-1\" type=\"checkbox\" ><label for=\"sk-estimator-id-1\" class=\"sk-toggleable__label sk-toggleable__label-arrow\">GridSearchCV</label><div class=\"sk-toggleable__content\"><pre>GridSearchCV(cv=5, estimator=RandomForestRegressor(random_state=42), n_jobs=-1,\n",
       "             param_grid={&#x27;max_features&#x27;: [0.2, 0.4, 0.6, 0.8, 1.0],\n",
       "                         &#x27;n_estimators&#x27;: [10, 12, 16, 20, 26, 33, 42, 54, 69,\n",
       "                                          88, 112, 143, 183, 233, 297, 379, 483,\n",
       "                                          615, 784, 1000]})</pre></div></div></div><div class=\"sk-parallel\"><div class=\"sk-parallel-item\"><div class=\"sk-item\"><div class=\"sk-label-container\"><div class=\"sk-label sk-toggleable\"><input class=\"sk-toggleable__control sk-hidden--visually\" id=\"sk-estimator-id-2\" type=\"checkbox\" ><label for=\"sk-estimator-id-2\" class=\"sk-toggleable__label sk-toggleable__label-arrow\">estimator: RandomForestRegressor</label><div class=\"sk-toggleable__content\"><pre>RandomForestRegressor(random_state=42)</pre></div></div></div><div class=\"sk-serial\"><div class=\"sk-item\"><div class=\"sk-estimator sk-toggleable\"><input class=\"sk-toggleable__control sk-hidden--visually\" id=\"sk-estimator-id-3\" type=\"checkbox\" ><label for=\"sk-estimator-id-3\" class=\"sk-toggleable__label sk-toggleable__label-arrow\">RandomForestRegressor</label><div class=\"sk-toggleable__content\"><pre>RandomForestRegressor(random_state=42)</pre></div></div></div></div></div></div></div></div></div></div>"
      ],
      "text/plain": [
       "GridSearchCV(cv=5, estimator=RandomForestRegressor(random_state=42), n_jobs=-1,\n",
       "             param_grid={'max_features': [0.2, 0.4, 0.6, 0.8, 1.0],\n",
       "                         'n_estimators': [10, 12, 16, 20, 26, 33, 42, 54, 69,\n",
       "                                          88, 112, 143, 183, 233, 297, 379, 483,\n",
       "                                          615, 784, 1000]})"
      ]
     },
     "execution_count": 25,
     "metadata": {},
     "output_type": "execute_result"
    }
   ],
   "source": [
    "rfr_grid_cv.fit(X_train, y_train)"
   ]
  },
  {
   "cell_type": "code",
   "execution_count": 26,
   "id": "7250c87e",
   "metadata": {},
   "outputs": [
    {
     "data": {
      "text/plain": [
       "{'max_features': 0.2, 'n_estimators': 297}"
      ]
     },
     "execution_count": 26,
     "metadata": {},
     "output_type": "execute_result"
    }
   ],
   "source": [
    "rfr_grid_cv.best_params_"
   ]
  },
  {
   "cell_type": "markdown",
   "id": "34c3eaf7",
   "metadata": {},
   "source": [
    "The parameters selected were to use 20% of the features and to use 297 trees for the forest."
   ]
  },
  {
   "cell_type": "code",
   "execution_count": 27,
   "id": "b2da7f23",
   "metadata": {},
   "outputs": [],
   "source": [
    "rfr_best = rfr_grid_cv.best_estimator_"
   ]
  },
  {
   "cell_type": "code",
   "execution_count": 28,
   "id": "49e2044d",
   "metadata": {},
   "outputs": [
    {
     "data": {
      "text/plain": [
       "array([ 0.20037049,  0.09601506,  0.33148782, -0.37325778,  0.12279508])"
      ]
     },
     "execution_count": 28,
     "metadata": {},
     "output_type": "execute_result"
    }
   ],
   "source": [
    "rfr_best_cv_scores = cross_val_score(rfr_best, X_train, y_train, cv=kf, scoring='r2')\n",
    "rfr_best_cv_scores"
   ]
  },
  {
   "cell_type": "code",
   "execution_count": 29,
   "id": "492862e6",
   "metadata": {},
   "outputs": [
    {
     "data": {
      "text/plain": [
       "(0.07548213283680401, 0.2388152582635638)"
      ]
     },
     "execution_count": 29,
     "metadata": {},
     "output_type": "execute_result"
    }
   ],
   "source": [
    "np.mean(rfr_best_cv_scores), np.std(rfr_best_cv_scores)"
   ]
  },
  {
   "cell_type": "markdown",
   "id": "78c6288e",
   "metadata": {},
   "source": [
    "Compared to the arbitrarily-set RF model from above in the preliminary models section, it looks as if there is considerable improvement in metrics."
   ]
  },
  {
   "cell_type": "code",
   "execution_count": 30,
   "id": "613f3e8f",
   "metadata": {
    "scrolled": true
   },
   "outputs": [
    {
     "data": {
      "text/plain": [
       "Area_sqmi             0.314750\n",
       "DM_Riverside          0.189291\n",
       "DM_San Diego          0.061220\n",
       "DM_Fresno             0.044596\n",
       "DM_Butte              0.040839\n",
       "DM_San Luis Obispo    0.032360\n",
       "DM_Kern               0.032109\n",
       "DM_Inyo               0.023590\n",
       "DM_Lake               0.022950\n",
       "DM_San Bernardino     0.021897\n",
       "DM_Imperial           0.021249\n",
       "DM_Shasta             0.021068\n",
       "DM_Siskiyou           0.018202\n",
       "DM_Monterey           0.011178\n",
       "DM_Los Angeles        0.010486\n",
       "DM_Mariposa           0.010380\n",
       "DM_Tehama             0.009419\n",
       "DM_Tulare             0.007260\n",
       "DM_Santa Clara        0.006235\n",
       "DM_Mono               0.006063\n",
       "DM_Lassen             0.006034\n",
       "DM_Madera             0.005823\n",
       "DM_Colusa             0.005058\n",
       "DM_Plumas             0.004993\n",
       "DM_El Dorado          0.004632\n",
       "DM_Calaveras          0.004361\n",
       "DM_Merced             0.003677\n",
       "DM_Modoc              0.003526\n",
       "DM_Napa               0.003465\n",
       "DM_San Francisco      0.003409\n",
       "DM_Kings              0.003330\n",
       "DM_Sierra             0.003271\n",
       "DM_Nevada             0.003242\n",
       "DM_Santa Cruz         0.003040\n",
       "DM_Alpine             0.002870\n",
       "DM_Sutter             0.002741\n",
       "DM_Trinity            0.002698\n",
       "DM_Marin              0.002470\n",
       "DM_Glenn              0.002438\n",
       "DM_San Joaquin        0.002207\n",
       "DM_San Mateo          0.001994\n",
       "DM_Humboldt           0.001969\n",
       "DM_Mendocino          0.001925\n",
       "DM_Sonoma             0.001894\n",
       "DM_Ventura            0.001725\n",
       "DM_Stanislaus         0.001544\n",
       "DM_Santa Barbara      0.001414\n",
       "DM_Placer             0.001239\n",
       "DM_Yuba               0.001192\n",
       "DM_Tuolumne           0.000925\n",
       "DM_Del Norte          0.000898\n",
       "DM_San Benito         0.000886\n",
       "DM_Amador             0.000882\n",
       "DM_Yolo               0.000827\n",
       "DM_Sacramento         0.000788\n",
       "DM_Contra Costa       0.000718\n",
       "DM_Solano             0.000402\n",
       "DM_Orange             0.000354\n",
       "dtype: float64"
      ]
     },
     "execution_count": 30,
     "metadata": {},
     "output_type": "execute_result"
    }
   ],
   "source": [
    "pd.Series(rfr_best.feature_importances_, (train_df.drop([y_var_name,'StartedYear'], axis=1)).columns).sort_values(ascending=False)"
   ]
  },
  {
   "cell_type": "markdown",
   "id": "099afb11",
   "metadata": {},
   "source": [
    "The RF model considers the area in square miles to be somewhat important, and then it considers some counties more important than others, but every county is accounted for."
   ]
  },
  {
   "cell_type": "markdown",
   "id": "33423a8a",
   "metadata": {},
   "source": [
    "#### 5.2.2 Gradient boosting regression hyperparameter tuning"
   ]
  },
  {
   "cell_type": "markdown",
   "id": "8d5b0ecf",
   "metadata": {},
   "source": [
    "For the `GradientBoostingRegressor`, we can tune for `n_estimators`, `learning_rate`, and `max_depth`."
   ]
  },
  {
   "cell_type": "code",
   "execution_count": 31,
   "id": "d3097758",
   "metadata": {},
   "outputs": [],
   "source": [
    "gbr_params = {\n",
    "    'n_estimators': n_ests,\n",
    "    'learning_rate': [0.1,0.2,0.4,0.6,0.8,1.0],\n",
    "    'max_depth': [None,1,2,3]\n",
    "}\n",
    "gbr_grid_cv = GridSearchCV(estimator=GradientBoostingRegressor(random_state=42),\n",
    "                          param_grid=gbr_params, cv=5, n_jobs=-1)"
   ]
  },
  {
   "cell_type": "code",
   "execution_count": 32,
   "id": "7eba352a",
   "metadata": {},
   "outputs": [
    {
     "data": {
      "text/html": [
       "<style>#sk-container-id-2 {color: black;background-color: white;}#sk-container-id-2 pre{padding: 0;}#sk-container-id-2 div.sk-toggleable {background-color: white;}#sk-container-id-2 label.sk-toggleable__label {cursor: pointer;display: block;width: 100%;margin-bottom: 0;padding: 0.3em;box-sizing: border-box;text-align: center;}#sk-container-id-2 label.sk-toggleable__label-arrow:before {content: \"▸\";float: left;margin-right: 0.25em;color: #696969;}#sk-container-id-2 label.sk-toggleable__label-arrow:hover:before {color: black;}#sk-container-id-2 div.sk-estimator:hover label.sk-toggleable__label-arrow:before {color: black;}#sk-container-id-2 div.sk-toggleable__content {max-height: 0;max-width: 0;overflow: hidden;text-align: left;background-color: #f0f8ff;}#sk-container-id-2 div.sk-toggleable__content pre {margin: 0.2em;color: black;border-radius: 0.25em;background-color: #f0f8ff;}#sk-container-id-2 input.sk-toggleable__control:checked~div.sk-toggleable__content {max-height: 200px;max-width: 100%;overflow: auto;}#sk-container-id-2 input.sk-toggleable__control:checked~label.sk-toggleable__label-arrow:before {content: \"▾\";}#sk-container-id-2 div.sk-estimator input.sk-toggleable__control:checked~label.sk-toggleable__label {background-color: #d4ebff;}#sk-container-id-2 div.sk-label input.sk-toggleable__control:checked~label.sk-toggleable__label {background-color: #d4ebff;}#sk-container-id-2 input.sk-hidden--visually {border: 0;clip: rect(1px 1px 1px 1px);clip: rect(1px, 1px, 1px, 1px);height: 1px;margin: -1px;overflow: hidden;padding: 0;position: absolute;width: 1px;}#sk-container-id-2 div.sk-estimator {font-family: monospace;background-color: #f0f8ff;border: 1px dotted black;border-radius: 0.25em;box-sizing: border-box;margin-bottom: 0.5em;}#sk-container-id-2 div.sk-estimator:hover {background-color: #d4ebff;}#sk-container-id-2 div.sk-parallel-item::after {content: \"\";width: 100%;border-bottom: 1px solid gray;flex-grow: 1;}#sk-container-id-2 div.sk-label:hover label.sk-toggleable__label {background-color: #d4ebff;}#sk-container-id-2 div.sk-serial::before {content: \"\";position: absolute;border-left: 1px solid gray;box-sizing: border-box;top: 0;bottom: 0;left: 50%;z-index: 0;}#sk-container-id-2 div.sk-serial {display: flex;flex-direction: column;align-items: center;background-color: white;padding-right: 0.2em;padding-left: 0.2em;position: relative;}#sk-container-id-2 div.sk-item {position: relative;z-index: 1;}#sk-container-id-2 div.sk-parallel {display: flex;align-items: stretch;justify-content: center;background-color: white;position: relative;}#sk-container-id-2 div.sk-item::before, #sk-container-id-2 div.sk-parallel-item::before {content: \"\";position: absolute;border-left: 1px solid gray;box-sizing: border-box;top: 0;bottom: 0;left: 50%;z-index: -1;}#sk-container-id-2 div.sk-parallel-item {display: flex;flex-direction: column;z-index: 1;position: relative;background-color: white;}#sk-container-id-2 div.sk-parallel-item:first-child::after {align-self: flex-end;width: 50%;}#sk-container-id-2 div.sk-parallel-item:last-child::after {align-self: flex-start;width: 50%;}#sk-container-id-2 div.sk-parallel-item:only-child::after {width: 0;}#sk-container-id-2 div.sk-dashed-wrapped {border: 1px dashed gray;margin: 0 0.4em 0.5em 0.4em;box-sizing: border-box;padding-bottom: 0.4em;background-color: white;}#sk-container-id-2 div.sk-label label {font-family: monospace;font-weight: bold;display: inline-block;line-height: 1.2em;}#sk-container-id-2 div.sk-label-container {text-align: center;}#sk-container-id-2 div.sk-container {/* jupyter's `normalize.less` sets `[hidden] { display: none; }` but bootstrap.min.css set `[hidden] { display: none !important; }` so we also need the `!important` here to be able to override the default hidden behavior on the sphinx rendered scikit-learn.org. See: https://github.com/scikit-learn/scikit-learn/issues/21755 */display: inline-block !important;position: relative;}#sk-container-id-2 div.sk-text-repr-fallback {display: none;}</style><div id=\"sk-container-id-2\" class=\"sk-top-container\"><div class=\"sk-text-repr-fallback\"><pre>GridSearchCV(cv=5, estimator=GradientBoostingRegressor(random_state=42),\n",
       "             n_jobs=-1,\n",
       "             param_grid={&#x27;learning_rate&#x27;: [0.1, 0.2, 0.4, 0.6, 0.8, 1.0],\n",
       "                         &#x27;max_depth&#x27;: [None, 1, 2, 3],\n",
       "                         &#x27;n_estimators&#x27;: [10, 12, 16, 20, 26, 33, 42, 54, 69,\n",
       "                                          88, 112, 143, 183, 233, 297, 379, 483,\n",
       "                                          615, 784, 1000]})</pre><b>In a Jupyter environment, please rerun this cell to show the HTML representation or trust the notebook. <br />On GitHub, the HTML representation is unable to render, please try loading this page with nbviewer.org.</b></div><div class=\"sk-container\" hidden><div class=\"sk-item sk-dashed-wrapped\"><div class=\"sk-label-container\"><div class=\"sk-label sk-toggleable\"><input class=\"sk-toggleable__control sk-hidden--visually\" id=\"sk-estimator-id-4\" type=\"checkbox\" ><label for=\"sk-estimator-id-4\" class=\"sk-toggleable__label sk-toggleable__label-arrow\">GridSearchCV</label><div class=\"sk-toggleable__content\"><pre>GridSearchCV(cv=5, estimator=GradientBoostingRegressor(random_state=42),\n",
       "             n_jobs=-1,\n",
       "             param_grid={&#x27;learning_rate&#x27;: [0.1, 0.2, 0.4, 0.6, 0.8, 1.0],\n",
       "                         &#x27;max_depth&#x27;: [None, 1, 2, 3],\n",
       "                         &#x27;n_estimators&#x27;: [10, 12, 16, 20, 26, 33, 42, 54, 69,\n",
       "                                          88, 112, 143, 183, 233, 297, 379, 483,\n",
       "                                          615, 784, 1000]})</pre></div></div></div><div class=\"sk-parallel\"><div class=\"sk-parallel-item\"><div class=\"sk-item\"><div class=\"sk-label-container\"><div class=\"sk-label sk-toggleable\"><input class=\"sk-toggleable__control sk-hidden--visually\" id=\"sk-estimator-id-5\" type=\"checkbox\" ><label for=\"sk-estimator-id-5\" class=\"sk-toggleable__label sk-toggleable__label-arrow\">estimator: GradientBoostingRegressor</label><div class=\"sk-toggleable__content\"><pre>GradientBoostingRegressor(random_state=42)</pre></div></div></div><div class=\"sk-serial\"><div class=\"sk-item\"><div class=\"sk-estimator sk-toggleable\"><input class=\"sk-toggleable__control sk-hidden--visually\" id=\"sk-estimator-id-6\" type=\"checkbox\" ><label for=\"sk-estimator-id-6\" class=\"sk-toggleable__label sk-toggleable__label-arrow\">GradientBoostingRegressor</label><div class=\"sk-toggleable__content\"><pre>GradientBoostingRegressor(random_state=42)</pre></div></div></div></div></div></div></div></div></div></div>"
      ],
      "text/plain": [
       "GridSearchCV(cv=5, estimator=GradientBoostingRegressor(random_state=42),\n",
       "             n_jobs=-1,\n",
       "             param_grid={'learning_rate': [0.1, 0.2, 0.4, 0.6, 0.8, 1.0],\n",
       "                         'max_depth': [None, 1, 2, 3],\n",
       "                         'n_estimators': [10, 12, 16, 20, 26, 33, 42, 54, 69,\n",
       "                                          88, 112, 143, 183, 233, 297, 379, 483,\n",
       "                                          615, 784, 1000]})"
      ]
     },
     "execution_count": 32,
     "metadata": {},
     "output_type": "execute_result"
    }
   ],
   "source": [
    "gbr_grid_cv.fit(X_train, y_train)"
   ]
  },
  {
   "cell_type": "code",
   "execution_count": 33,
   "id": "f9faf35c",
   "metadata": {},
   "outputs": [
    {
     "data": {
      "text/plain": [
       "{'learning_rate': 0.4, 'max_depth': 2, 'n_estimators': 12}"
      ]
     },
     "execution_count": 33,
     "metadata": {},
     "output_type": "execute_result"
    }
   ],
   "source": [
    "gbr_grid_cv.best_params_"
   ]
  },
  {
   "cell_type": "markdown",
   "id": "a7080e79",
   "metadata": {},
   "source": [
    "The GridSearchCV selected a learning rate of 0.4, a max depth of 2, and a number of estimators of 12. This model has fewer and shorter trees than the RF model."
   ]
  },
  {
   "cell_type": "code",
   "execution_count": 34,
   "id": "a25d81c6",
   "metadata": {},
   "outputs": [],
   "source": [
    "gbr_best = gbr_grid_cv.best_estimator_"
   ]
  },
  {
   "cell_type": "code",
   "execution_count": 35,
   "id": "43ddc714",
   "metadata": {},
   "outputs": [],
   "source": [
    "gbr_best = gbr_grid_cv.best_estimator_"
   ]
  },
  {
   "cell_type": "code",
   "execution_count": 36,
   "id": "e7b5ec43",
   "metadata": {},
   "outputs": [
    {
     "data": {
      "text/plain": [
       "array([ 0.19079903,  0.13014078,  0.34894352, -0.17427424,  0.13303208])"
      ]
     },
     "execution_count": 36,
     "metadata": {},
     "output_type": "execute_result"
    }
   ],
   "source": [
    "gbr_best_cv_scores = cross_val_score(gbr_best, X_train, y_train, cv=kf, scoring='r2')\n",
    "gbr_best_cv_scores"
   ]
  },
  {
   "cell_type": "code",
   "execution_count": 37,
   "id": "888db676",
   "metadata": {},
   "outputs": [
    {
     "data": {
      "text/plain": [
       "(0.12572823443908326, 0.16978431663469204)"
      ]
     },
     "execution_count": 37,
     "metadata": {},
     "output_type": "execute_result"
    }
   ],
   "source": [
    "np.mean(gbr_best_cv_scores), np.std(gbr_best_cv_scores)"
   ]
  },
  {
   "cell_type": "markdown",
   "id": "63ca7f4d",
   "metadata": {},
   "source": [
    "With tuning, this model changed only a little from the arbitrarily-chosen GBR model."
   ]
  },
  {
   "cell_type": "code",
   "execution_count": 38,
   "id": "f2f4d61f",
   "metadata": {
    "scrolled": false
   },
   "outputs": [
    {
     "data": {
      "text/plain": [
       "Area_sqmi             0.517204\n",
       "DM_Riverside          0.213971\n",
       "DM_Inyo               0.069353\n",
       "DM_Butte              0.056526\n",
       "DM_Lake               0.035109\n",
       "DM_Imperial           0.034299\n",
       "DM_San Diego          0.029936\n",
       "DM_Shasta             0.008586\n",
       "DM_San Luis Obispo    0.008521\n",
       "DM_Mariposa           0.005733\n",
       "DM_Lassen             0.005286\n",
       "DM_Tehama             0.005284\n",
       "DM_Mono               0.005171\n",
       "DM_Santa Clara        0.005021\n",
       "DM_Santa Barbara      0.000000\n",
       "DM_San Benito         0.000000\n",
       "dtype: float64"
      ]
     },
     "execution_count": 38,
     "metadata": {},
     "output_type": "execute_result"
    }
   ],
   "source": [
    "pd.Series(gbr_best.feature_importances_, (train_df.drop([y_var_name,'StartedYear'], axis=1)).columns).sort_values(ascending=False)[:16]"
   ]
  },
  {
   "cell_type": "markdown",
   "id": "1130352a",
   "metadata": {},
   "source": [
    "The GB model similarly puts a lot of weight on the area, but it puts a lot more weight on it. As for the counties, it doesn't bother considering most of them."
   ]
  },
  {
   "cell_type": "markdown",
   "id": "4fcaadef",
   "metadata": {},
   "source": [
    "### 5.3 Model Selection"
   ]
  },
  {
   "cell_type": "code",
   "execution_count": 39,
   "id": "2a6e1b79",
   "metadata": {},
   "outputs": [
    {
     "data": {
      "image/png": "[encoded data removed]",
      "text/plain": [
       "<Figure size 640x480 with 1 Axes>"
      ]
     },
     "metadata": {},
     "output_type": "display_data"
    }
   ],
   "source": [
    "results = {'RFR': rfr_best_cv_scores, 'GBR': gbr_best_cv_scores}\n",
    "plt.boxplot(results.values(),  labels=results.keys())\n",
    "plt.ylabel(\"CV scores\")\n",
    "plt.show()"
   ]
  },
  {
   "cell_type": "markdown",
   "id": "f4429c90",
   "metadata": {},
   "source": [
    "The range of CV is wider with the Random Forest model, but the two models' medians are comparable. The Gradient Boosting model performs slightly better with cross-validation training sets."
   ]
  },
  {
   "cell_type": "code",
   "execution_count": 40,
   "id": "e5963c63",
   "metadata": {},
   "outputs": [
    {
     "name": "stdout",
     "output_type": "stream",
     "text": [
      "406.21352195739746 22.939205169677734\n"
     ]
    }
   ],
   "source": [
    "# Random Forest Regressor\n",
    "start_time = time.time()\n",
    "rfr_ttest = RandomForestRegressor(max_features=0.2, n_estimators=297, random_state=42).fit(X_train, y_train)\n",
    "end_time = time.time()\n",
    "fit_elapsed_time = end_time - start_time\n",
    "\n",
    "start_time = time.time()\n",
    "y_pred_rfr = rfr_ttest.predict(X_test)\n",
    "end_time = time.time()\n",
    "predict_elapsed_time = end_time - start_time\n",
    "print(fit_elapsed_time * 1000, predict_elapsed_time * 1000) # ms"
   ]
  },
  {
   "cell_type": "code",
   "execution_count": 41,
   "id": "51936efb",
   "metadata": {},
   "outputs": [
    {
     "name": "stdout",
     "output_type": "stream",
     "text": [
      "10.960817337036133 0.0\n"
     ]
    }
   ],
   "source": [
    "# Gradient Boosting Regressor\n",
    "start_time = time.time()\n",
    "gbr_ttest = GradientBoostingRegressor(learning_rate=0.4, max_depth=2, n_estimators=12, random_state=42).fit(X_train, y_train)\n",
    "end_time = time.time()\n",
    "fit_elapsed_time = end_time - start_time\n",
    "\n",
    "start_time = time.time()\n",
    "y_pred_gbr = gbr_ttest.predict(X_test)\n",
    "end_time = time.time()\n",
    "predict_elapsed_time = end_time - start_time\n",
    "print(fit_elapsed_time * 1000, predict_elapsed_time * 1000)"
   ]
  },
  {
   "cell_type": "markdown",
   "id": "9c44c4b7",
   "metadata": {},
   "source": [
    "The Gradient Boosting regressor is a lot faster, which is unsurprising, considering how much smaller the ensemble is and how much shorter the trees are. The Random Forest has 297 trees with expansive leaves."
   ]
  },
  {
   "cell_type": "code",
   "execution_count": 42,
   "id": "51eca8e9",
   "metadata": {},
   "outputs": [
    {
     "name": "stdout",
     "output_type": "stream",
     "text": [
      "Best RFR Model:\n",
      "\tR^2 = 0.5747791791156027\n",
      "\tMSE = 3.324085976558219\n",
      "\tMAE = 2.221380501059646\n",
      "Best GBR Model:\n",
      "\tR^2 = 0.489964603938027\n",
      "\tMSE = 3.640534456047771\n",
      "\tMAE = 2.5060850597419\n"
     ]
    }
   ],
   "source": [
    "_ = get_scores(rfr_best, X_train, y_train, X_test, y_test, \"Best RFR Model\")\n",
    "_ = get_scores(gbr_best, X_train, y_train, X_test, y_test, \"Best GBR Model\")"
   ]
  },
  {
   "cell_type": "markdown",
   "id": "80e8fd76",
   "metadata": {},
   "source": [
    "When scoring the two models with the test set, the Random Forest model performs a bit better across the board. Perhaps the Random Forest model having more inclusive county considerations helps it predict the new data. (It also slightly outperforms the Linear Regression model, including in the cross validation training sets except for the one negative value.)"
   ]
  },
  {
   "cell_type": "code",
   "execution_count": 43,
   "id": "e71037c6",
   "metadata": {},
   "outputs": [
    {
     "data": {
      "image/png": "[encoded data removed]",
      "text/plain": [
       "<Figure size 1000x500 with 1 Axes>"
      ]
     },
     "metadata": {},
     "output_type": "display_data"
    }
   ],
   "source": [
    "plt.subplots(figsize=(10, 5))\n",
    "rfr_feat_imps = pd.Series(rfr_best.feature_importances_, index=train_df.drop([y_var_name,'StartedYear'], axis=1).columns).sort_values(ascending=False)\n",
    "rfr_feat_imps.plot(kind='bar')\n",
    "plt.xlabel('features')\n",
    "plt.ylabel('importance')\n",
    "plt.title('Best random forest regressor feature importances');"
   ]
  },
  {
   "cell_type": "code",
   "execution_count": 44,
   "id": "72e11762",
   "metadata": {},
   "outputs": [
    {
     "data": {
      "text/plain": [
       "array([2.94036992e+00, 2.94036992e+00, 4.36101515e-01, 4.36101515e-01,\n",
       "       2.03251381e+00, 2.03251381e+00, 8.86689405e+00, 8.86689405e+00,\n",
       "       3.39939365e+00, 3.39939365e+00, 1.75364759e-01, 1.75364759e-01,\n",
       "       1.82298758e+00, 1.82298758e+00, 1.16969746e+00, 1.16969746e+00,\n",
       "       4.88060796e+00, 4.88060796e+00, 9.71620384e+00, 9.71620384e+00,\n",
       "       5.87781738e-01, 5.87781738e-01, 3.98249438e+00, 3.98249438e+00,\n",
       "       1.23773145e+00, 1.23773145e+00, 8.85761463e+00, 8.85761463e+00,\n",
       "       5.48148513e-01, 5.48148513e-01, 6.42298053e+00, 6.42298053e+00,\n",
       "       3.14879319e+00, 3.14879319e+00, 6.41695320e+00, 6.41695320e+00,\n",
       "       5.17598486e+00, 5.17598486e+00, 4.03057100e-01, 4.03057100e-01,\n",
       "       5.00169856e+00, 5.00169856e+00, 3.42876650e+00, 3.42876650e+00,\n",
       "       1.79952766e+00, 1.79952766e+00, 4.75544004e+00, 4.75544004e+00,\n",
       "       1.46288668e+00, 1.46288668e+00, 5.88461766e+00, 5.88461766e+00,\n",
       "       3.16035062e+00, 3.16035062e+00, 2.98076924e+00, 2.98076924e+00,\n",
       "       1.41502118e+00, 1.41502118e+00, 1.79661320e+00, 1.79661320e+00,\n",
       "       1.69027914e+00, 1.69027914e+00, 1.75435794e+01, 1.75435794e+01,\n",
       "       1.41450434e+00, 1.41450434e+00, 1.97218007e+00, 1.97218007e+00,\n",
       "       7.81259591e+00, 7.81259591e+00, 1.10752868e+01, 1.10752868e+01,\n",
       "       6.05347851e-01, 6.05347851e-01, 7.45432973e+00, 7.45432973e+00,\n",
       "       4.21208234e-01, 4.21208234e-01, 3.47888705e+00, 3.47888705e+00,\n",
       "       3.79551114e+00, 3.79551114e+00, 1.85689778e-01, 1.85689778e-01,\n",
       "       7.86877226e+00, 7.86877226e+00, 4.35287337e-01, 4.35287337e-01,\n",
       "       7.63566500e+00, 7.63566500e+00, 1.64650133e+00, 1.64650133e+00,\n",
       "       2.77391702e+00, 2.77391702e+00, 2.44320052e+00, 2.44320052e+00,\n",
       "       2.12238052e-01, 2.12238052e-01, 5.64689789e+00, 5.64689789e+00,\n",
       "       2.93038416e+00, 2.93038416e+00, 4.45909353e+00, 4.45909353e+00,\n",
       "       3.39309691e+00, 3.39309691e+00, 3.48848101e+00, 3.48848101e+00,\n",
       "       1.20870866e+00, 1.20870866e+00, 1.97974454e+00, 1.97974454e+00,\n",
       "       3.70370370e-03, 3.70370370e-03, 4.68013468e-02, 4.68013468e-02])"
      ]
     },
     "execution_count": 44,
     "metadata": {},
     "output_type": "execute_result"
    }
   ],
   "source": [
    "y_pred_rfr"
   ]
  },
  {
   "cell_type": "code",
   "execution_count": 45,
   "id": "7043d65a",
   "metadata": {},
   "outputs": [
    {
     "data": {
      "text/html": [
       "<div>\n",
       "<style scoped>\n",
       "    .dataframe tbody tr th:only-of-type {\n",
       "        vertical-align: middle;\n",
       "    }\n",
       "\n",
       "    .dataframe tbody tr th {\n",
       "        vertical-align: top;\n",
       "    }\n",
       "\n",
       "    .dataframe thead th {\n",
       "        text-align: right;\n",
       "    }\n",
       "</style>\n",
       "<table border=\"1\" class=\"dataframe\">\n",
       "  <thead>\n",
       "    <tr style=\"text-align: right;\">\n",
       "      <th></th>\n",
       "      <th>0</th>\n",
       "      <th>1</th>\n",
       "      <th>3</th>\n",
       "    </tr>\n",
       "  </thead>\n",
       "  <tbody>\n",
       "    <tr>\n",
       "      <th>0</th>\n",
       "      <td>8</td>\n",
       "      <td>2.940370</td>\n",
       "      <td>-5.059630</td>\n",
       "    </tr>\n",
       "    <tr>\n",
       "      <th>1</th>\n",
       "      <td>9</td>\n",
       "      <td>2.940370</td>\n",
       "      <td>-6.059630</td>\n",
       "    </tr>\n",
       "    <tr>\n",
       "      <th>2</th>\n",
       "      <td>0</td>\n",
       "      <td>0.436102</td>\n",
       "      <td>0.436102</td>\n",
       "    </tr>\n",
       "    <tr>\n",
       "      <th>3</th>\n",
       "      <td>0</td>\n",
       "      <td>0.436102</td>\n",
       "      <td>0.436102</td>\n",
       "    </tr>\n",
       "    <tr>\n",
       "      <th>4</th>\n",
       "      <td>2</td>\n",
       "      <td>2.032514</td>\n",
       "      <td>0.032514</td>\n",
       "    </tr>\n",
       "    <tr>\n",
       "      <th>...</th>\n",
       "      <td>...</td>\n",
       "      <td>...</td>\n",
       "      <td>...</td>\n",
       "    </tr>\n",
       "    <tr>\n",
       "      <th>111</th>\n",
       "      <td>4</td>\n",
       "      <td>1.979745</td>\n",
       "      <td>-2.020255</td>\n",
       "    </tr>\n",
       "    <tr>\n",
       "      <th>112</th>\n",
       "      <td>0</td>\n",
       "      <td>0.003704</td>\n",
       "      <td>0.003704</td>\n",
       "    </tr>\n",
       "    <tr>\n",
       "      <th>113</th>\n",
       "      <td>0</td>\n",
       "      <td>0.003704</td>\n",
       "      <td>0.003704</td>\n",
       "    </tr>\n",
       "    <tr>\n",
       "      <th>114</th>\n",
       "      <td>0</td>\n",
       "      <td>0.046801</td>\n",
       "      <td>0.046801</td>\n",
       "    </tr>\n",
       "    <tr>\n",
       "      <th>115</th>\n",
       "      <td>0</td>\n",
       "      <td>0.046801</td>\n",
       "      <td>0.046801</td>\n",
       "    </tr>\n",
       "  </tbody>\n",
       "</table>\n",
       "<p>116 rows × 3 columns</p>\n",
       "</div>"
      ],
      "text/plain": [
       "     0         1         3\n",
       "0    8  2.940370 -5.059630\n",
       "1    9  2.940370 -6.059630\n",
       "2    0  0.436102  0.436102\n",
       "3    0  0.436102  0.436102\n",
       "4    2  2.032514  0.032514\n",
       "..  ..       ...       ...\n",
       "111  4  1.979745 -2.020255\n",
       "112  0  0.003704  0.003704\n",
       "113  0  0.003704  0.003704\n",
       "114  0  0.046801  0.046801\n",
       "115  0  0.046801  0.046801\n",
       "\n",
       "[116 rows x 3 columns]"
      ]
     },
     "execution_count": 45,
     "metadata": {},
     "output_type": "execute_result"
    }
   ],
   "source": [
    "y_rfr = pd.concat([pd.Series(y_test), pd.Series(y_pred_rfr)], axis=1)\n",
    "y_rfr[3] = y_rfr[1] - y_rfr[0]\n",
    "y_rfr"
   ]
  },
  {
   "cell_type": "code",
   "execution_count": 46,
   "id": "6652a6ee",
   "metadata": {},
   "outputs": [
    {
     "data": {
      "image/png": "[encoded data removed]",
      "text/plain": [
       "<Figure size 640x480 with 1 Axes>"
      ]
     },
     "metadata": {},
     "output_type": "display_data"
    }
   ],
   "source": [
    "plt.figure()\n",
    "plt.plot(y_rfr[3])\n",
    "plt.plot(np.zeros(116))\n",
    "plt.show()"
   ]
  },
  {
   "cell_type": "code",
   "execution_count": 47,
   "id": "79463e50",
   "metadata": {},
   "outputs": [
    {
     "data": {
      "image/png": "[encoded data removed]",
      "text/plain": [
       "<Figure size 1400x800 with 1 Axes>"
      ]
     },
     "metadata": {},
     "output_type": "display_data"
    }
   ],
   "source": [
    "plt.figure(figsize=[14,8])\n",
    "plt.plot(y_pred_rfr, \"g^\", label=\"RandomForestRegressor\")\n",
    "plt.plot(y_pred_gbr, \"bd\", label=\"GradientBoostingRegressor\")\n",
    "plt.plot(y_test, \"r*\", label=\"Test\")\n",
    "plt.title(\"RFR and GBR predictions and true test values\")\n",
    "plt.legend(loc=\"best\")\n",
    "\n",
    "plt.show()"
   ]
  },
  {
   "cell_type": "code",
   "execution_count": 48,
   "id": "a7f0274d",
   "metadata": {},
   "outputs": [],
   "source": [
    "pd.Series(y_pred_rfr).to_csv('../models/y_pred_rfr.csv')"
   ]
  },
  {
   "cell_type": "markdown",
   "id": "49faa9c3",
   "metadata": {},
   "source": [
    "## 6 Conclusion"
   ]
  },
  {
   "cell_type": "markdown",
   "id": "75868518",
   "metadata": {},
   "source": [
    "To start, five models were quickly checked: `LinearRegression`, `Ridge`, `RandomForestRegressor`, `GradientBoostingRegressor`, and `AdaBoostRegressor`. Some of the metrics are displayed in the table below; a few of the Ridge scores were omitted for brevity.\n",
    "\n",
    "| Name | R^2 | RMSE | MAE |\n",
    "| --- | --- | --- | --- |\n",
    "| Linear | 0.573793 | 3.327938 | 2.224138 |\n",
    "| Ridge α=0.01 | 0.573164 | 3.330393 | 2.225527 |\n",
    "| Ridge α=0.1 | 0.568308 | 3.349285 | 2.235868 |\n",
    "| Ridge α=1.0 | 0.527764 | 3.503035 | 2.310869 |\n",
    "| Ridge α=10.0 | 0.291693 | 4.290184 | 2.849396 |\n",
    "| Random Forest | 0.378911 | 4.017371 | 2.830672 |\n",
    "| Gradient Boosting | 0.454937 | 3.763469 | 2.588978 |\n",
    "| Ada Boost | 0.519620 | 3.533113 | 2.608358 |\n",
    "\n",
    "The linear regression model performed decently, and the ridge regression model indicated that the closer that alpha was to 0 (the more like standard OLS), the better, so the ridge regressor was ignored from this point. Three decision tree-based algorithms were tested with arbitrary hyperparameters. Given that they were not set with much thought, they also performed decently. When examining them with cross-validation, the AdaBoost regressor did not result in much better scores."
   ]
  },
  {
   "cell_type": "markdown",
   "id": "329ba753",
   "metadata": {},
   "source": [
    "Next, the hyperparameters of the `RandomForestRegressor` and the `GradientBoostingRegressor` were tuned using `GridSearchCV`. Specifically, for the random forest model, the number of max features (`max_features`) and the number of estimators or trees (`n_estimators`) were searched for, and `GridSearchCV` found that the `max_features` should be 0.2 and the `n_estimators` should be 297. As for the gradient boosting model, `GridSearchCV` picked the `learning_rate` of 0.4, `max_depth` of 2, and `n_estimators` of 12.\n",
    "\n",
    "Cross-validation of the two models found that the gradient boosting regressor's R-squared fell into a generally better range, but the medians of both were comparable. When scored using the testing set--entirely unseen data, the random forest regressor slightly outperformed the gradient boosting regressor. This could perhaps be explained by the fact that the random forest regressor puts at least some weight on every county and is more exhaustive in its evaluations, whereas the gradient boosting model disregards most of the counties and puts much more weight on just one feature, the area. The tuned random forest model also does very slightly better than the first linear regression model.\n",
    "\n",
    "| Name | R^2 | RMSE | MAE |\n",
    "| --- | --- | --- | --- |\n",
    "| Random Forest | 0.5748 | 3.3241 | 2.2214 |\n",
    "| Gradient Boosting | 0.4900 | 3.6405 | 2.5061 |"
   ]
  },
  {
   "cell_type": "markdown",
   "id": "a4ad38db",
   "metadata": {},
   "source": [
    "In terms of prediction, the random forest model could be the best choice. However, one thing to consider is the execution time. The random forest was much slower than the gradient boosting model, both in learning and in prediction (about 20 and 40 times slower). That being said, there are only so many fires per year in each county, and the number of counties is also known and finite, and these models only consider yearly statistics, so maybe having a lengthy computation time is not as big of a concern, and accuracy would be more important."
   ]
  },
  {
   "cell_type": "markdown",
   "id": "f63623db",
   "metadata": {},
   "source": [
    "### 6.1 Save Model"
   ]
  },
  {
   "cell_type": "code",
   "execution_count": 50,
   "id": "66f842d4",
   "metadata": {},
   "outputs": [
    {
     "data": {
      "text/plain": [
       "['../models/rfr_model.pkl']"
      ]
     },
     "execution_count": 50,
     "metadata": {},
     "output_type": "execute_result"
    }
   ],
   "source": [
    "joblib.dump(rfr_best, \"../models/rfr_model.pkl\")"
   ]
  }
 ],
 "metadata": {
  "kernelspec": {
   "display_name": "Python 3 (ipykernel)",
   "language": "python",
   "name": "python3"
  },
  "language_info": {
   "codemirror_mode": {
    "name": "ipython",
    "version": 3
   },
   "file_extension": ".py",
   "mimetype": "text/x-python",
   "name": "python",
   "nbconvert_exporter": "python",
   "pygments_lexer": "ipython3",
   "version": "3.11.0"
  },
  "toc": {
   "base_numbering": 1,
   "nav_menu": {},
   "number_sections": false,
   "sideBar": false,
   "skip_h1_title": false,
   "title_cell": "Table of Contents",
   "title_sidebar": "Contents",
   "toc_cell": false,
   "toc_position": {},
   "toc_section_display": true,
   "toc_window_display": false
  }
 },
 "nbformat": 4,
 "nbformat_minor": 5
}

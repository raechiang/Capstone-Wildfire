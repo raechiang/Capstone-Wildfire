{
 "cells": [
  {
   "cell_type": "markdown",
   "id": "aa52ed57",
   "metadata": {},
   "source": [
    "# Pre-processing and Training"
   ]
  },
  {
   "cell_type": "markdown",
   "id": "3e0b1dbf",
   "metadata": {},
   "source": [
    "## 1 Contents\n",
    "- [1 Contents](#1-Contents)\n",
    "- [2 Introduction](#2-Introduction)\n",
    "- [3 Imports](#3-Imports)\n",
    "- [4 Load Data](#4-Load-Data)\n"
   ]
  },
  {
   "cell_type": "markdown",
   "id": "7acef6fd",
   "metadata": {},
   "source": [
    "## 2 Introduction"
   ]
  },
  {
   "cell_type": "markdown",
   "id": "d61872b1",
   "metadata": {},
   "source": [
    "The purpose of this notebook is to prepare the data for modeling, which may include standardization or encoding. At this time, the data will also be split into a training and testing set."
   ]
  },
  {
   "cell_type": "markdown",
   "id": "a28ede7c",
   "metadata": {},
   "source": [
    "The first approach that will be attempted is to see if we can develop a model that can determine how many fires will be in each county in some years. The target feature is the number of fires in a county, and the independent variable is the area in square miles."
   ]
  },
  {
   "cell_type": "markdown",
   "id": "d1a466b9",
   "metadata": {},
   "source": [
    "## 3 Imports"
   ]
  },
  {
   "cell_type": "code",
   "execution_count": 1,
   "id": "122ee6b5",
   "metadata": {},
   "outputs": [],
   "source": [
    "import pandas as pd\n",
    "import numpy as np\n",
    "import datetime\n",
    "import seaborn as sns\n",
    "import matplotlib.pyplot as plt"
   ]
  },
  {
   "cell_type": "markdown",
   "id": "0e684f09",
   "metadata": {},
   "source": [
    "## 4 Load Data"
   ]
  },
  {
   "cell_type": "markdown",
   "id": "710d3ac4",
   "metadata": {},
   "source": [
    "The data needed for our approach are the area of the county and the fires that occurred. These would be found in the `fire_df` and the `county_df`."
   ]
  },
  {
   "cell_type": "code",
   "execution_count": 2,
   "id": "4fd0ee5b",
   "metadata": {},
   "outputs": [],
   "source": [
    "fire_df = pd.read_pickle('../data/interim/2-1_fire_df.pkl')\n",
    "county_df = pd.read_pickle('../data/interim/2-1_county_df.pkl')"
   ]
  },
  {
   "cell_type": "code",
   "execution_count": 3,
   "id": "1981816f",
   "metadata": {},
   "outputs": [
    {
     "name": "stdout",
     "output_type": "stream",
     "text": [
      "<class 'pandas.core.frame.DataFrame'>\n",
      "RangeIndex: 1605 entries, 0 to 1604\n",
      "Data columns (total 17 columns):\n",
      " #   Column                 Non-Null Count  Dtype              \n",
      "---  ------                 --------------  -----              \n",
      " 0   AcresBurned            1603 non-null   float64            \n",
      " 1   CalFireIncident        1605 non-null   bool               \n",
      " 2   CanonicalUrl           1605 non-null   object             \n",
      " 3   County                 1605 non-null   object             \n",
      " 4   CountyIds              1605 non-null   object             \n",
      " 5   ExtinguishedTimestamp  1605 non-null   datetime64[ns, UTC]\n",
      " 6   Featured               1605 non-null   bool               \n",
      " 7   Latitude               1605 non-null   float64            \n",
      " 8   Longitude              1605 non-null   float64            \n",
      " 9   MajorIncident          1605 non-null   bool               \n",
      " 10  Name                   1605 non-null   object             \n",
      " 11  StartedTimestamp       1605 non-null   datetime64[ns, UTC]\n",
      " 12  UniqueId               1605 non-null   object             \n",
      " 13  CountiesList           1605 non-null   object             \n",
      " 14  ActiveDays             1605 non-null   float64            \n",
      " 15  StartedMonth           1605 non-null   int64              \n",
      " 16  StartedYear            1605 non-null   int64              \n",
      "dtypes: bool(3), datetime64[ns, UTC](2), float64(4), int64(2), object(6)\n",
      "memory usage: 180.4+ KB\n"
     ]
    }
   ],
   "source": [
    "fire_df.info()"
   ]
  },
  {
   "cell_type": "code",
   "execution_count": 4,
   "id": "d23171fa",
   "metadata": {},
   "outputs": [
    {
     "name": "stdout",
     "output_type": "stream",
     "text": [
      "<class 'pandas.core.frame.DataFrame'>\n",
      "Int64Index: 58 entries, 0 to 57\n",
      "Data columns (total 11 columns):\n",
      " #   Column             Non-Null Count  Dtype  \n",
      "---  ------             --------------  -----  \n",
      " 0   countyId           58 non-null     int64  \n",
      " 1   County             58 non-null     object \n",
      " 2   Latitude           58 non-null     float64\n",
      " 3   Longitude          58 non-null     float64\n",
      " 4   AcresBurned        56 non-null     float64\n",
      " 5   FireStartCounts    56 non-null     float64\n",
      " 6   AcresPerFireCount  56 non-null     float64\n",
      " 7   Population_2022    58 non-null     int64  \n",
      " 8   Area_sqmi          58 non-null     int64  \n",
      " 9   Pop_per_size       58 non-null     float64\n",
      " 10  StartProportion    56 non-null     float64\n",
      "dtypes: float64(7), int64(3), object(1)\n",
      "memory usage: 5.4+ KB\n"
     ]
    }
   ],
   "source": [
    "county_df.info()"
   ]
  },
  {
   "cell_type": "code",
   "execution_count": 5,
   "id": "4ccb6c32",
   "metadata": {},
   "outputs": [
    {
     "data": {
      "image/png": "[encoded data removed]",
      "text/plain": [
       "<Figure size 500x500 with 1 Axes>"
      ]
     },
     "metadata": {},
     "output_type": "display_data"
    }
   ],
   "source": [
    "g = sns.relplot(data=county_df, x='FireStartCounts', y='Area_sqmi')\n",
    "plt.show()"
   ]
  },
  {
   "cell_type": "markdown",
   "id": "4969d428",
   "metadata": {},
   "source": [
    "## 5 Preparing data"
   ]
  },
  {
   "cell_type": "markdown",
   "id": "c93b0a5a",
   "metadata": {},
   "source": [
    "### 5.1 Dataset creation"
   ]
  },
  {
   "cell_type": "markdown",
   "id": "e71b395b",
   "metadata": {},
   "source": [
    "A new dataframe will be made that needs the following: the county, the number of fires per year in the county, and the area."
   ]
  },
  {
   "cell_type": "code",
   "execution_count": 6,
   "id": "90fc47a7",
   "metadata": {
    "scrolled": false
   },
   "outputs": [],
   "source": [
    "fcount_df = fire_df[['County', 'StartedYear', 'UniqueId']].groupby(['County', 'StartedYear']).count()"
   ]
  },
  {
   "cell_type": "code",
   "execution_count": 7,
   "id": "65456c2a",
   "metadata": {},
   "outputs": [],
   "source": [
    "fcount_df.rename(columns={'UniqueId':'NumFires'}, inplace=True)"
   ]
  },
  {
   "cell_type": "code",
   "execution_count": 8,
   "id": "93768b08",
   "metadata": {},
   "outputs": [],
   "source": [
    "fcount_df.reset_index(inplace=True)"
   ]
  },
  {
   "cell_type": "code",
   "execution_count": 9,
   "id": "972f96b4",
   "metadata": {},
   "outputs": [
    {
     "data": {
      "text/html": [
       "<div>\n",
       "<style scoped>\n",
       "    .dataframe tbody tr th:only-of-type {\n",
       "        vertical-align: middle;\n",
       "    }\n",
       "\n",
       "    .dataframe tbody tr th {\n",
       "        vertical-align: top;\n",
       "    }\n",
       "\n",
       "    .dataframe thead th {\n",
       "        text-align: right;\n",
       "    }\n",
       "</style>\n",
       "<table border=\"1\" class=\"dataframe\">\n",
       "  <thead>\n",
       "    <tr style=\"text-align: right;\">\n",
       "      <th></th>\n",
       "      <th>County</th>\n",
       "      <th>StartedYear</th>\n",
       "      <th>NumFires</th>\n",
       "    </tr>\n",
       "  </thead>\n",
       "  <tbody>\n",
       "    <tr>\n",
       "      <th>0</th>\n",
       "      <td>Alameda</td>\n",
       "      <td>2013</td>\n",
       "      <td>4</td>\n",
       "    </tr>\n",
       "    <tr>\n",
       "      <th>1</th>\n",
       "      <td>Alameda</td>\n",
       "      <td>2015</td>\n",
       "      <td>5</td>\n",
       "    </tr>\n",
       "    <tr>\n",
       "      <th>2</th>\n",
       "      <td>Alameda</td>\n",
       "      <td>2016</td>\n",
       "      <td>1</td>\n",
       "    </tr>\n",
       "  </tbody>\n",
       "</table>\n",
       "</div>"
      ],
      "text/plain": [
       "    County  StartedYear  NumFires\n",
       "0  Alameda         2013         4\n",
       "1  Alameda         2015         5\n",
       "2  Alameda         2016         1"
      ]
     },
     "execution_count": 9,
     "metadata": {},
     "output_type": "execute_result"
    }
   ],
   "source": [
    "fcount_df.head(3)"
   ]
  },
  {
   "cell_type": "code",
   "execution_count": 10,
   "id": "ec3dd4e8",
   "metadata": {},
   "outputs": [
    {
     "name": "stdout",
     "output_type": "stream",
     "text": [
      "<class 'pandas.core.frame.DataFrame'>\n",
      "RangeIndex: 328 entries, 0 to 327\n",
      "Data columns (total 3 columns):\n",
      " #   Column       Non-Null Count  Dtype \n",
      "---  ------       --------------  ----- \n",
      " 0   County       328 non-null    object\n",
      " 1   StartedYear  328 non-null    int64 \n",
      " 2   NumFires     328 non-null    int64 \n",
      "dtypes: int64(2), object(1)\n",
      "memory usage: 7.8+ KB\n"
     ]
    }
   ],
   "source": [
    "fcount_df.info()"
   ]
  },
  {
   "cell_type": "markdown",
   "id": "150525d4",
   "metadata": {},
   "source": [
    "#### 5.1.1 Completing years"
   ]
  },
  {
   "cell_type": "markdown",
   "id": "2f4d4bd8",
   "metadata": {},
   "source": [
    "For each county, there should be an entry for every year. Currently we have 328 entries, but for 56 counties, there should be 392 entries. In the end, we should have 64 rows with 0 `NumFires`."
   ]
  },
  {
   "cell_type": "code",
   "execution_count": 11,
   "id": "77de345d",
   "metadata": {},
   "outputs": [],
   "source": [
    "years = np.arange(fcount_df['StartedYear'].min(),fcount_df['StartedYear'].max() + 1)\n",
    "counties = fcount_df.County.unique()"
   ]
  },
  {
   "cell_type": "code",
   "execution_count": 12,
   "id": "ed3f0df1",
   "metadata": {
    "scrolled": false
   },
   "outputs": [
    {
     "data": {
      "text/html": [
       "<div>\n",
       "<style scoped>\n",
       "    .dataframe tbody tr th:only-of-type {\n",
       "        vertical-align: middle;\n",
       "    }\n",
       "\n",
       "    .dataframe tbody tr th {\n",
       "        vertical-align: top;\n",
       "    }\n",
       "\n",
       "    .dataframe thead th {\n",
       "        text-align: right;\n",
       "    }\n",
       "</style>\n",
       "<table border=\"1\" class=\"dataframe\">\n",
       "  <thead>\n",
       "    <tr style=\"text-align: right;\">\n",
       "      <th></th>\n",
       "      <th>County</th>\n",
       "      <th>StartedYear</th>\n",
       "    </tr>\n",
       "  </thead>\n",
       "  <tbody>\n",
       "    <tr>\n",
       "      <th>0</th>\n",
       "      <td>0</td>\n",
       "      <td>0</td>\n",
       "    </tr>\n",
       "    <tr>\n",
       "      <th>1</th>\n",
       "      <td>0</td>\n",
       "      <td>0</td>\n",
       "    </tr>\n",
       "    <tr>\n",
       "      <th>2</th>\n",
       "      <td>0</td>\n",
       "      <td>0</td>\n",
       "    </tr>\n",
       "    <tr>\n",
       "      <th>3</th>\n",
       "      <td>0</td>\n",
       "      <td>0</td>\n",
       "    </tr>\n",
       "    <tr>\n",
       "      <th>4</th>\n",
       "      <td>0</td>\n",
       "      <td>0</td>\n",
       "    </tr>\n",
       "    <tr>\n",
       "      <th>...</th>\n",
       "      <td>...</td>\n",
       "      <td>...</td>\n",
       "    </tr>\n",
       "    <tr>\n",
       "      <th>387</th>\n",
       "      <td>0</td>\n",
       "      <td>0</td>\n",
       "    </tr>\n",
       "    <tr>\n",
       "      <th>388</th>\n",
       "      <td>0</td>\n",
       "      <td>0</td>\n",
       "    </tr>\n",
       "    <tr>\n",
       "      <th>389</th>\n",
       "      <td>0</td>\n",
       "      <td>0</td>\n",
       "    </tr>\n",
       "    <tr>\n",
       "      <th>390</th>\n",
       "      <td>0</td>\n",
       "      <td>0</td>\n",
       "    </tr>\n",
       "    <tr>\n",
       "      <th>391</th>\n",
       "      <td>0</td>\n",
       "      <td>0</td>\n",
       "    </tr>\n",
       "  </tbody>\n",
       "</table>\n",
       "<p>392 rows × 2 columns</p>\n",
       "</div>"
      ],
      "text/plain": [
       "     County  StartedYear\n",
       "0         0            0\n",
       "1         0            0\n",
       "2         0            0\n",
       "3         0            0\n",
       "4         0            0\n",
       "..      ...          ...\n",
       "387       0            0\n",
       "388       0            0\n",
       "389       0            0\n",
       "390       0            0\n",
       "391       0            0\n",
       "\n",
       "[392 rows x 2 columns]"
      ]
     },
     "execution_count": 12,
     "metadata": {},
     "output_type": "execute_result"
    }
   ],
   "source": [
    "# Making an empty DataFrame of the goal size\n",
    "zero_df = pd.DataFrame(0, index=np.arange(len(years) * len(counties)), columns=fcount_df.columns[0:2])\n",
    "zero_df"
   ]
  },
  {
   "cell_type": "code",
   "execution_count": 13,
   "id": "7870cd21",
   "metadata": {},
   "outputs": [],
   "source": [
    "# Instantiating values such that there are 7 years [2013,2019] for every county\n",
    "i = 0\n",
    "for c in counties:\n",
    "    for y in years:\n",
    "        zero_df.iloc[i] = [c, y]\n",
    "        i += 1"
   ]
  },
  {
   "cell_type": "code",
   "execution_count": 14,
   "id": "ce865c5e",
   "metadata": {},
   "outputs": [
    {
     "name": "stdout",
     "output_type": "stream",
     "text": [
      "56 56\n"
     ]
    }
   ],
   "source": [
    "# Verifying there are the same number of counties as in the original fcount_df\n",
    "print(zero_df['County'].nunique(), fcount_df['County'].nunique())"
   ]
  },
  {
   "cell_type": "code",
   "execution_count": 15,
   "id": "fa266339",
   "metadata": {},
   "outputs": [
    {
     "name": "stdout",
     "output_type": "stream",
     "text": [
      "[2013 2014 2015 2016 2017 2018 2019]\n"
     ]
    }
   ],
   "source": [
    "# Verifying the 7 unique years\n",
    "print(zero_df['StartedYear'].unique())"
   ]
  },
  {
   "cell_type": "code",
   "execution_count": 16,
   "id": "2f6db40e",
   "metadata": {
    "scrolled": true
   },
   "outputs": [
    {
     "data": {
      "text/plain": [
       "Alameda            7\n",
       "Alpine             7\n",
       "Plumas             7\n",
       "Riverside          7\n",
       "Sacramento         7\n",
       "San Benito         7\n",
       "San Bernardino     7\n",
       "San Diego          7\n",
       "San Joaquin        7\n",
       "San Luis Obispo    7\n",
       "San Mateo          7\n",
       "Santa Barbara      7\n",
       "Santa Clara        7\n",
       "Santa Cruz         7\n",
       "Shasta             7\n",
       "Sierra             7\n",
       "Siskiyou           7\n",
       "Solano             7\n",
       "Sonoma             7\n",
       "Stanislaus         7\n",
       "Sutter             7\n",
       "Tehama             7\n",
       "Trinity            7\n",
       "Tulare             7\n",
       "Tuolumne           7\n",
       "Ventura            7\n",
       "Yolo               7\n",
       "Placer             7\n",
       "Orange             7\n",
       "Nevada             7\n",
       "Kern               7\n",
       "Amador             7\n",
       "Butte              7\n",
       "Calaveras          7\n",
       "Colusa             7\n",
       "Contra Costa       7\n",
       "Del Norte          7\n",
       "El Dorado          7\n",
       "Fresno             7\n",
       "Glenn              7\n",
       "Humboldt           7\n",
       "Inyo               7\n",
       "Kings              7\n",
       "Napa               7\n",
       "Lake               7\n",
       "Lassen             7\n",
       "Los Angeles        7\n",
       "Madera             7\n",
       "Marin              7\n",
       "Mariposa           7\n",
       "Mendocino          7\n",
       "Merced             7\n",
       "Modoc              7\n",
       "Mono               7\n",
       "Monterey           7\n",
       "Yuba               7\n",
       "Name: County, dtype: int64"
      ]
     },
     "execution_count": 16,
     "metadata": {},
     "output_type": "execute_result"
    }
   ],
   "source": [
    "# Verifying 7 entries for each County\n",
    "zero_df['County'].value_counts()"
   ]
  },
  {
   "cell_type": "code",
   "execution_count": 17,
   "id": "2e15388d",
   "metadata": {},
   "outputs": [
    {
     "data": {
      "text/html": [
       "<div>\n",
       "<style scoped>\n",
       "    .dataframe tbody tr th:only-of-type {\n",
       "        vertical-align: middle;\n",
       "    }\n",
       "\n",
       "    .dataframe tbody tr th {\n",
       "        vertical-align: top;\n",
       "    }\n",
       "\n",
       "    .dataframe thead th {\n",
       "        text-align: right;\n",
       "    }\n",
       "</style>\n",
       "<table border=\"1\" class=\"dataframe\">\n",
       "  <thead>\n",
       "    <tr style=\"text-align: right;\">\n",
       "      <th></th>\n",
       "      <th>County</th>\n",
       "      <th>StartedYear</th>\n",
       "    </tr>\n",
       "  </thead>\n",
       "  <tbody>\n",
       "    <tr>\n",
       "      <th>0</th>\n",
       "      <td>Alameda</td>\n",
       "      <td>2013</td>\n",
       "    </tr>\n",
       "    <tr>\n",
       "      <th>1</th>\n",
       "      <td>Alameda</td>\n",
       "      <td>2014</td>\n",
       "    </tr>\n",
       "    <tr>\n",
       "      <th>2</th>\n",
       "      <td>Alameda</td>\n",
       "      <td>2015</td>\n",
       "    </tr>\n",
       "    <tr>\n",
       "      <th>3</th>\n",
       "      <td>Alameda</td>\n",
       "      <td>2016</td>\n",
       "    </tr>\n",
       "    <tr>\n",
       "      <th>4</th>\n",
       "      <td>Alameda</td>\n",
       "      <td>2017</td>\n",
       "    </tr>\n",
       "    <tr>\n",
       "      <th>...</th>\n",
       "      <td>...</td>\n",
       "      <td>...</td>\n",
       "    </tr>\n",
       "    <tr>\n",
       "      <th>387</th>\n",
       "      <td>Yuba</td>\n",
       "      <td>2015</td>\n",
       "    </tr>\n",
       "    <tr>\n",
       "      <th>388</th>\n",
       "      <td>Yuba</td>\n",
       "      <td>2016</td>\n",
       "    </tr>\n",
       "    <tr>\n",
       "      <th>389</th>\n",
       "      <td>Yuba</td>\n",
       "      <td>2017</td>\n",
       "    </tr>\n",
       "    <tr>\n",
       "      <th>390</th>\n",
       "      <td>Yuba</td>\n",
       "      <td>2018</td>\n",
       "    </tr>\n",
       "    <tr>\n",
       "      <th>391</th>\n",
       "      <td>Yuba</td>\n",
       "      <td>2019</td>\n",
       "    </tr>\n",
       "  </tbody>\n",
       "</table>\n",
       "<p>392 rows × 2 columns</p>\n",
       "</div>"
      ],
      "text/plain": [
       "      County  StartedYear\n",
       "0    Alameda         2013\n",
       "1    Alameda         2014\n",
       "2    Alameda         2015\n",
       "3    Alameda         2016\n",
       "4    Alameda         2017\n",
       "..       ...          ...\n",
       "387     Yuba         2015\n",
       "388     Yuba         2016\n",
       "389     Yuba         2017\n",
       "390     Yuba         2018\n",
       "391     Yuba         2019\n",
       "\n",
       "[392 rows x 2 columns]"
      ]
     },
     "execution_count": 17,
     "metadata": {},
     "output_type": "execute_result"
    }
   ],
   "source": [
    "zero_df"
   ]
  },
  {
   "cell_type": "code",
   "execution_count": 18,
   "id": "dc759435",
   "metadata": {},
   "outputs": [],
   "source": [
    "allyears_df = fcount_df.merge(zero_df, how='outer', on=['County','StartedYear'])"
   ]
  },
  {
   "cell_type": "code",
   "execution_count": 19,
   "id": "cf6f50d7",
   "metadata": {},
   "outputs": [
    {
     "data": {
      "text/html": [
       "<div>\n",
       "<style scoped>\n",
       "    .dataframe tbody tr th:only-of-type {\n",
       "        vertical-align: middle;\n",
       "    }\n",
       "\n",
       "    .dataframe tbody tr th {\n",
       "        vertical-align: top;\n",
       "    }\n",
       "\n",
       "    .dataframe thead th {\n",
       "        text-align: right;\n",
       "    }\n",
       "</style>\n",
       "<table border=\"1\" class=\"dataframe\">\n",
       "  <thead>\n",
       "    <tr style=\"text-align: right;\">\n",
       "      <th></th>\n",
       "      <th>County</th>\n",
       "      <th>StartedYear</th>\n",
       "      <th>NumFires</th>\n",
       "    </tr>\n",
       "  </thead>\n",
       "  <tbody>\n",
       "    <tr>\n",
       "      <th>0</th>\n",
       "      <td>Alameda</td>\n",
       "      <td>2013</td>\n",
       "      <td>4.0</td>\n",
       "    </tr>\n",
       "    <tr>\n",
       "      <th>1</th>\n",
       "      <td>Alameda</td>\n",
       "      <td>2015</td>\n",
       "      <td>5.0</td>\n",
       "    </tr>\n",
       "    <tr>\n",
       "      <th>2</th>\n",
       "      <td>Alameda</td>\n",
       "      <td>2016</td>\n",
       "      <td>1.0</td>\n",
       "    </tr>\n",
       "    <tr>\n",
       "      <th>3</th>\n",
       "      <td>Alameda</td>\n",
       "      <td>2017</td>\n",
       "      <td>5.0</td>\n",
       "    </tr>\n",
       "    <tr>\n",
       "      <th>4</th>\n",
       "      <td>Alameda</td>\n",
       "      <td>2018</td>\n",
       "      <td>8.0</td>\n",
       "    </tr>\n",
       "    <tr>\n",
       "      <th>...</th>\n",
       "      <td>...</td>\n",
       "      <td>...</td>\n",
       "      <td>...</td>\n",
       "    </tr>\n",
       "    <tr>\n",
       "      <th>387</th>\n",
       "      <td>Trinity</td>\n",
       "      <td>2016</td>\n",
       "      <td>NaN</td>\n",
       "    </tr>\n",
       "    <tr>\n",
       "      <th>388</th>\n",
       "      <td>Tulare</td>\n",
       "      <td>2014</td>\n",
       "      <td>NaN</td>\n",
       "    </tr>\n",
       "    <tr>\n",
       "      <th>389</th>\n",
       "      <td>Yolo</td>\n",
       "      <td>2015</td>\n",
       "      <td>NaN</td>\n",
       "    </tr>\n",
       "    <tr>\n",
       "      <th>390</th>\n",
       "      <td>Yuba</td>\n",
       "      <td>2014</td>\n",
       "      <td>NaN</td>\n",
       "    </tr>\n",
       "    <tr>\n",
       "      <th>391</th>\n",
       "      <td>Yuba</td>\n",
       "      <td>2018</td>\n",
       "      <td>NaN</td>\n",
       "    </tr>\n",
       "  </tbody>\n",
       "</table>\n",
       "<p>392 rows × 3 columns</p>\n",
       "</div>"
      ],
      "text/plain": [
       "      County  StartedYear  NumFires\n",
       "0    Alameda         2013       4.0\n",
       "1    Alameda         2015       5.0\n",
       "2    Alameda         2016       1.0\n",
       "3    Alameda         2017       5.0\n",
       "4    Alameda         2018       8.0\n",
       "..       ...          ...       ...\n",
       "387  Trinity         2016       NaN\n",
       "388   Tulare         2014       NaN\n",
       "389     Yolo         2015       NaN\n",
       "390     Yuba         2014       NaN\n",
       "391     Yuba         2018       NaN\n",
       "\n",
       "[392 rows x 3 columns]"
      ]
     },
     "execution_count": 19,
     "metadata": {},
     "output_type": "execute_result"
    }
   ],
   "source": [
    "allyears_df"
   ]
  },
  {
   "cell_type": "code",
   "execution_count": 20,
   "id": "0c60f045",
   "metadata": {},
   "outputs": [
    {
     "name": "stdout",
     "output_type": "stream",
     "text": [
      "<class 'pandas.core.frame.DataFrame'>\n",
      "Int64Index: 392 entries, 0 to 391\n",
      "Data columns (total 3 columns):\n",
      " #   Column       Non-Null Count  Dtype  \n",
      "---  ------       --------------  -----  \n",
      " 0   County       392 non-null    object \n",
      " 1   StartedYear  392 non-null    int64  \n",
      " 2   NumFires     328 non-null    float64\n",
      "dtypes: float64(1), int64(1), object(1)\n",
      "memory usage: 12.2+ KB\n"
     ]
    }
   ],
   "source": [
    "allyears_df.info()"
   ]
  },
  {
   "cell_type": "code",
   "execution_count": 21,
   "id": "210447a2",
   "metadata": {},
   "outputs": [
    {
     "data": {
      "text/html": [
       "<div>\n",
       "<style scoped>\n",
       "    .dataframe tbody tr th:only-of-type {\n",
       "        vertical-align: middle;\n",
       "    }\n",
       "\n",
       "    .dataframe tbody tr th {\n",
       "        vertical-align: top;\n",
       "    }\n",
       "\n",
       "    .dataframe thead th {\n",
       "        text-align: right;\n",
       "    }\n",
       "</style>\n",
       "<table border=\"1\" class=\"dataframe\">\n",
       "  <thead>\n",
       "    <tr style=\"text-align: right;\">\n",
       "      <th></th>\n",
       "      <th>County</th>\n",
       "      <th>StartedYear</th>\n",
       "      <th>NumFires</th>\n",
       "    </tr>\n",
       "  </thead>\n",
       "  <tbody>\n",
       "    <tr>\n",
       "      <th>323</th>\n",
       "      <td>Yuba</td>\n",
       "      <td>2013</td>\n",
       "      <td>1.0</td>\n",
       "    </tr>\n",
       "    <tr>\n",
       "      <th>324</th>\n",
       "      <td>Yuba</td>\n",
       "      <td>2015</td>\n",
       "      <td>2.0</td>\n",
       "    </tr>\n",
       "    <tr>\n",
       "      <th>325</th>\n",
       "      <td>Yuba</td>\n",
       "      <td>2016</td>\n",
       "      <td>1.0</td>\n",
       "    </tr>\n",
       "    <tr>\n",
       "      <th>326</th>\n",
       "      <td>Yuba</td>\n",
       "      <td>2017</td>\n",
       "      <td>6.0</td>\n",
       "    </tr>\n",
       "    <tr>\n",
       "      <th>327</th>\n",
       "      <td>Yuba</td>\n",
       "      <td>2019</td>\n",
       "      <td>4.0</td>\n",
       "    </tr>\n",
       "    <tr>\n",
       "      <th>390</th>\n",
       "      <td>Yuba</td>\n",
       "      <td>2014</td>\n",
       "      <td>NaN</td>\n",
       "    </tr>\n",
       "    <tr>\n",
       "      <th>391</th>\n",
       "      <td>Yuba</td>\n",
       "      <td>2018</td>\n",
       "      <td>NaN</td>\n",
       "    </tr>\n",
       "  </tbody>\n",
       "</table>\n",
       "</div>"
      ],
      "text/plain": [
       "    County  StartedYear  NumFires\n",
       "323   Yuba         2013       1.0\n",
       "324   Yuba         2015       2.0\n",
       "325   Yuba         2016       1.0\n",
       "326   Yuba         2017       6.0\n",
       "327   Yuba         2019       4.0\n",
       "390   Yuba         2014       NaN\n",
       "391   Yuba         2018       NaN"
      ]
     },
     "execution_count": 21,
     "metadata": {},
     "output_type": "execute_result"
    }
   ],
   "source": [
    "allyears_df[allyears_df['County'] == 'Yuba']"
   ]
  },
  {
   "cell_type": "code",
   "execution_count": 22,
   "id": "7287606c",
   "metadata": {},
   "outputs": [],
   "source": [
    "allyears_df.fillna(value={'NumFires':0}, inplace=True)"
   ]
  },
  {
   "cell_type": "code",
   "execution_count": 23,
   "id": "5e3b1d64",
   "metadata": {},
   "outputs": [
    {
     "data": {
      "text/html": [
       "<div>\n",
       "<style scoped>\n",
       "    .dataframe tbody tr th:only-of-type {\n",
       "        vertical-align: middle;\n",
       "    }\n",
       "\n",
       "    .dataframe tbody tr th {\n",
       "        vertical-align: top;\n",
       "    }\n",
       "\n",
       "    .dataframe thead th {\n",
       "        text-align: right;\n",
       "    }\n",
       "</style>\n",
       "<table border=\"1\" class=\"dataframe\">\n",
       "  <thead>\n",
       "    <tr style=\"text-align: right;\">\n",
       "      <th></th>\n",
       "      <th>County</th>\n",
       "      <th>StartedYear</th>\n",
       "      <th>NumFires</th>\n",
       "    </tr>\n",
       "  </thead>\n",
       "  <tbody>\n",
       "    <tr>\n",
       "      <th>323</th>\n",
       "      <td>Yuba</td>\n",
       "      <td>2013</td>\n",
       "      <td>1.0</td>\n",
       "    </tr>\n",
       "    <tr>\n",
       "      <th>324</th>\n",
       "      <td>Yuba</td>\n",
       "      <td>2015</td>\n",
       "      <td>2.0</td>\n",
       "    </tr>\n",
       "    <tr>\n",
       "      <th>325</th>\n",
       "      <td>Yuba</td>\n",
       "      <td>2016</td>\n",
       "      <td>1.0</td>\n",
       "    </tr>\n",
       "    <tr>\n",
       "      <th>326</th>\n",
       "      <td>Yuba</td>\n",
       "      <td>2017</td>\n",
       "      <td>6.0</td>\n",
       "    </tr>\n",
       "    <tr>\n",
       "      <th>327</th>\n",
       "      <td>Yuba</td>\n",
       "      <td>2019</td>\n",
       "      <td>4.0</td>\n",
       "    </tr>\n",
       "    <tr>\n",
       "      <th>390</th>\n",
       "      <td>Yuba</td>\n",
       "      <td>2014</td>\n",
       "      <td>0.0</td>\n",
       "    </tr>\n",
       "    <tr>\n",
       "      <th>391</th>\n",
       "      <td>Yuba</td>\n",
       "      <td>2018</td>\n",
       "      <td>0.0</td>\n",
       "    </tr>\n",
       "  </tbody>\n",
       "</table>\n",
       "</div>"
      ],
      "text/plain": [
       "    County  StartedYear  NumFires\n",
       "323   Yuba         2013       1.0\n",
       "324   Yuba         2015       2.0\n",
       "325   Yuba         2016       1.0\n",
       "326   Yuba         2017       6.0\n",
       "327   Yuba         2019       4.0\n",
       "390   Yuba         2014       0.0\n",
       "391   Yuba         2018       0.0"
      ]
     },
     "execution_count": 23,
     "metadata": {},
     "output_type": "execute_result"
    }
   ],
   "source": [
    "allyears_df[allyears_df['County'] == 'Yuba']"
   ]
  },
  {
   "cell_type": "code",
   "execution_count": 24,
   "id": "87c5ea2a",
   "metadata": {},
   "outputs": [],
   "source": [
    "allyears_df.sort_values(by=['County', 'StartedYear'], inplace=True)\n",
    "allyears_df.reset_index(drop=True, inplace=True)"
   ]
  },
  {
   "cell_type": "code",
   "execution_count": 25,
   "id": "ee916de5",
   "metadata": {},
   "outputs": [
    {
     "data": {
      "text/html": [
       "<div>\n",
       "<style scoped>\n",
       "    .dataframe tbody tr th:only-of-type {\n",
       "        vertical-align: middle;\n",
       "    }\n",
       "\n",
       "    .dataframe tbody tr th {\n",
       "        vertical-align: top;\n",
       "    }\n",
       "\n",
       "    .dataframe thead th {\n",
       "        text-align: right;\n",
       "    }\n",
       "</style>\n",
       "<table border=\"1\" class=\"dataframe\">\n",
       "  <thead>\n",
       "    <tr style=\"text-align: right;\">\n",
       "      <th></th>\n",
       "      <th>County</th>\n",
       "      <th>StartedYear</th>\n",
       "      <th>NumFires</th>\n",
       "    </tr>\n",
       "  </thead>\n",
       "  <tbody>\n",
       "    <tr>\n",
       "      <th>0</th>\n",
       "      <td>Alameda</td>\n",
       "      <td>2013</td>\n",
       "      <td>4.0</td>\n",
       "    </tr>\n",
       "    <tr>\n",
       "      <th>1</th>\n",
       "      <td>Alameda</td>\n",
       "      <td>2014</td>\n",
       "      <td>0.0</td>\n",
       "    </tr>\n",
       "    <tr>\n",
       "      <th>2</th>\n",
       "      <td>Alameda</td>\n",
       "      <td>2015</td>\n",
       "      <td>5.0</td>\n",
       "    </tr>\n",
       "    <tr>\n",
       "      <th>3</th>\n",
       "      <td>Alameda</td>\n",
       "      <td>2016</td>\n",
       "      <td>1.0</td>\n",
       "    </tr>\n",
       "    <tr>\n",
       "      <th>4</th>\n",
       "      <td>Alameda</td>\n",
       "      <td>2017</td>\n",
       "      <td>5.0</td>\n",
       "    </tr>\n",
       "    <tr>\n",
       "      <th>...</th>\n",
       "      <td>...</td>\n",
       "      <td>...</td>\n",
       "      <td>...</td>\n",
       "    </tr>\n",
       "    <tr>\n",
       "      <th>387</th>\n",
       "      <td>Yuba</td>\n",
       "      <td>2015</td>\n",
       "      <td>2.0</td>\n",
       "    </tr>\n",
       "    <tr>\n",
       "      <th>388</th>\n",
       "      <td>Yuba</td>\n",
       "      <td>2016</td>\n",
       "      <td>1.0</td>\n",
       "    </tr>\n",
       "    <tr>\n",
       "      <th>389</th>\n",
       "      <td>Yuba</td>\n",
       "      <td>2017</td>\n",
       "      <td>6.0</td>\n",
       "    </tr>\n",
       "    <tr>\n",
       "      <th>390</th>\n",
       "      <td>Yuba</td>\n",
       "      <td>2018</td>\n",
       "      <td>0.0</td>\n",
       "    </tr>\n",
       "    <tr>\n",
       "      <th>391</th>\n",
       "      <td>Yuba</td>\n",
       "      <td>2019</td>\n",
       "      <td>4.0</td>\n",
       "    </tr>\n",
       "  </tbody>\n",
       "</table>\n",
       "<p>392 rows × 3 columns</p>\n",
       "</div>"
      ],
      "text/plain": [
       "      County  StartedYear  NumFires\n",
       "0    Alameda         2013       4.0\n",
       "1    Alameda         2014       0.0\n",
       "2    Alameda         2015       5.0\n",
       "3    Alameda         2016       1.0\n",
       "4    Alameda         2017       5.0\n",
       "..       ...          ...       ...\n",
       "387     Yuba         2015       2.0\n",
       "388     Yuba         2016       1.0\n",
       "389     Yuba         2017       6.0\n",
       "390     Yuba         2018       0.0\n",
       "391     Yuba         2019       4.0\n",
       "\n",
       "[392 rows x 3 columns]"
      ]
     },
     "execution_count": 25,
     "metadata": {},
     "output_type": "execute_result"
    }
   ],
   "source": [
    "allyears_df"
   ]
  },
  {
   "cell_type": "code",
   "execution_count": 26,
   "id": "38481c82",
   "metadata": {},
   "outputs": [
    {
     "data": {
      "text/plain": [
       "64"
      ]
     },
     "execution_count": 26,
     "metadata": {},
     "output_type": "execute_result"
    }
   ],
   "source": [
    "# Check we have 64 0 fires\n",
    "len(allyears_df[allyears_df['NumFires'] == 0])"
   ]
  },
  {
   "cell_type": "code",
   "execution_count": 27,
   "id": "cbe1d9de",
   "metadata": {},
   "outputs": [
    {
     "data": {
      "text/plain": [
       "0.16326530612244897"
      ]
     },
     "execution_count": 27,
     "metadata": {},
     "output_type": "execute_result"
    }
   ],
   "source": [
    "len(allyears_df[allyears_df['NumFires'] == 0]) / len(allyears_df)"
   ]
  },
  {
   "cell_type": "code",
   "execution_count": 28,
   "id": "08972ba3",
   "metadata": {},
   "outputs": [
    {
     "data": {
      "text/plain": [
       "count    392.000000\n",
       "mean       4.094388\n",
       "std        5.110920\n",
       "min        0.000000\n",
       "25%        1.000000\n",
       "50%        3.000000\n",
       "75%        6.000000\n",
       "max       52.000000\n",
       "Name: NumFires, dtype: float64"
      ]
     },
     "execution_count": 28,
     "metadata": {},
     "output_type": "execute_result"
    }
   ],
   "source": [
    "allyears_df['NumFires'].describe()"
   ]
  },
  {
   "cell_type": "code",
   "execution_count": 29,
   "id": "fbcc2dc0",
   "metadata": {},
   "outputs": [],
   "source": [
    "allyears_df = allyears_df.astype({'NumFires':'int64'})"
   ]
  },
  {
   "cell_type": "code",
   "execution_count": 30,
   "id": "02139db2",
   "metadata": {},
   "outputs": [
    {
     "data": {
      "image/png": "[encoded data removed]",
      "text/plain": [
       "<Figure size 640x480 with 1 Axes>"
      ]
     },
     "metadata": {},
     "output_type": "display_data"
    }
   ],
   "source": [
    "allyears_df['NumFires'].hist(bins=52)\n",
    "plt.show()"
   ]
  },
  {
   "cell_type": "code",
   "execution_count": 31,
   "id": "057836f1",
   "metadata": {},
   "outputs": [],
   "source": [
    "fcount_df = allyears_df"
   ]
  },
  {
   "cell_type": "markdown",
   "id": "ca8ec291",
   "metadata": {},
   "source": [
    "#### 5.1.2 Adding area"
   ]
  },
  {
   "cell_type": "code",
   "execution_count": 32,
   "id": "f5fca19d",
   "metadata": {},
   "outputs": [],
   "source": [
    "fcount_df = fcount_df.merge(county_df[['County','Area_sqmi']], how='left', on='County')"
   ]
  },
  {
   "cell_type": "code",
   "execution_count": 33,
   "id": "96220acd",
   "metadata": {},
   "outputs": [
    {
     "name": "stdout",
     "output_type": "stream",
     "text": [
      "<class 'pandas.core.frame.DataFrame'>\n",
      "Int64Index: 392 entries, 0 to 391\n",
      "Data columns (total 4 columns):\n",
      " #   Column       Non-Null Count  Dtype \n",
      "---  ------       --------------  ----- \n",
      " 0   County       392 non-null    object\n",
      " 1   StartedYear  392 non-null    int64 \n",
      " 2   NumFires     392 non-null    int64 \n",
      " 3   Area_sqmi    392 non-null    int64 \n",
      "dtypes: int64(3), object(1)\n",
      "memory usage: 15.3+ KB\n"
     ]
    }
   ],
   "source": [
    "fcount_df.info()"
   ]
  },
  {
   "cell_type": "code",
   "execution_count": 34,
   "id": "fb53f498",
   "metadata": {},
   "outputs": [
    {
     "data": {
      "text/html": [
       "<div>\n",
       "<style scoped>\n",
       "    .dataframe tbody tr th:only-of-type {\n",
       "        vertical-align: middle;\n",
       "    }\n",
       "\n",
       "    .dataframe tbody tr th {\n",
       "        vertical-align: top;\n",
       "    }\n",
       "\n",
       "    .dataframe thead th {\n",
       "        text-align: right;\n",
       "    }\n",
       "</style>\n",
       "<table border=\"1\" class=\"dataframe\">\n",
       "  <thead>\n",
       "    <tr style=\"text-align: right;\">\n",
       "      <th></th>\n",
       "      <th>County</th>\n",
       "      <th>StartedYear</th>\n",
       "      <th>NumFires</th>\n",
       "      <th>Area_sqmi</th>\n",
       "    </tr>\n",
       "  </thead>\n",
       "  <tbody>\n",
       "    <tr>\n",
       "      <th>109</th>\n",
       "      <td>Lake</td>\n",
       "      <td>2017</td>\n",
       "      <td>8</td>\n",
       "      <td>1258</td>\n",
       "    </tr>\n",
       "    <tr>\n",
       "      <th>313</th>\n",
       "      <td>Siskiyou</td>\n",
       "      <td>2018</td>\n",
       "      <td>10</td>\n",
       "      <td>6287</td>\n",
       "    </tr>\n",
       "    <tr>\n",
       "      <th>322</th>\n",
       "      <td>Sonoma</td>\n",
       "      <td>2013</td>\n",
       "      <td>5</td>\n",
       "      <td>1576</td>\n",
       "    </tr>\n",
       "  </tbody>\n",
       "</table>\n",
       "</div>"
      ],
      "text/plain": [
       "       County  StartedYear  NumFires  Area_sqmi\n",
       "109      Lake         2017         8       1258\n",
       "313  Siskiyou         2018        10       6287\n",
       "322    Sonoma         2013         5       1576"
      ]
     },
     "execution_count": 34,
     "metadata": {},
     "output_type": "execute_result"
    }
   ],
   "source": [
    "fcount_df.sample(3)"
   ]
  },
  {
   "cell_type": "markdown",
   "id": "3842f25d",
   "metadata": {},
   "source": [
    "#### 5.1.3 Dummy encoding counties"
   ]
  },
  {
   "cell_type": "code",
   "execution_count": 35,
   "id": "cb772d29",
   "metadata": {},
   "outputs": [],
   "source": [
    "# There are 56 in this DataFrame\n",
    "num_counties = fcount_df['County'].nunique()"
   ]
  },
  {
   "cell_type": "code",
   "execution_count": 36,
   "id": "32f8fe42",
   "metadata": {},
   "outputs": [
    {
     "name": "stdout",
     "output_type": "stream",
     "text": [
      "Index(['StartedYear', 'NumFires', 'Area_sqmi', 'DM_Alpine', 'DM_Amador',\n",
      "       'DM_Butte', 'DM_Calaveras', 'DM_Colusa', 'DM_Contra Costa',\n",
      "       'DM_Del Norte', 'DM_El Dorado', 'DM_Fresno', 'DM_Glenn', 'DM_Humboldt',\n",
      "       'DM_Inyo', 'DM_Kern', 'DM_Kings', 'DM_Lake', 'DM_Lassen',\n",
      "       'DM_Los Angeles', 'DM_Madera', 'DM_Marin', 'DM_Mariposa',\n",
      "       'DM_Mendocino', 'DM_Merced', 'DM_Modoc', 'DM_Mono', 'DM_Monterey',\n",
      "       'DM_Napa', 'DM_Nevada', 'DM_Orange', 'DM_Placer', 'DM_Plumas',\n",
      "       'DM_Riverside', 'DM_Sacramento', 'DM_San Benito', 'DM_San Bernardino',\n",
      "       'DM_San Diego', 'DM_San Joaquin', 'DM_San Luis Obispo', 'DM_San Mateo',\n",
      "       'DM_Santa Barbara', 'DM_Santa Clara', 'DM_Santa Cruz', 'DM_Shasta',\n",
      "       'DM_Sierra', 'DM_Siskiyou', 'DM_Solano', 'DM_Sonoma', 'DM_Stanislaus',\n",
      "       'DM_Sutter', 'DM_Tehama', 'DM_Trinity', 'DM_Tulare', 'DM_Tuolumne',\n",
      "       'DM_Ventura', 'DM_Yolo', 'DM_Yuba'],\n",
      "      dtype='object')\n"
     ]
    }
   ],
   "source": [
    "# Alameda will probably be dropped\n",
    "fcount_dummy_df = pd.get_dummies(fcount_df, columns=['County'], drop_first = True, prefix='DM')\n",
    "print(fcount_dummy_df.columns)"
   ]
  },
  {
   "cell_type": "markdown",
   "id": "f7a724d0",
   "metadata": {},
   "source": [
    "### 5.2 Split the data into training and testing sets"
   ]
  },
  {
   "cell_type": "markdown",
   "id": "0332fa95",
   "metadata": {},
   "source": [
    "TODO: 2018-2019 for testing"
   ]
  }
 ],
 "metadata": {
  "kernelspec": {
   "display_name": "Python 3 (ipykernel)",
   "language": "python",
   "name": "python3"
  },
  "language_info": {
   "codemirror_mode": {
    "name": "ipython",
    "version": 3
   },
   "file_extension": ".py",
   "mimetype": "text/x-python",
   "name": "python",
   "nbconvert_exporter": "python",
   "pygments_lexer": "ipython3",
   "version": "3.9.13"
  },
  "toc": {
   "base_numbering": 1,
   "nav_menu": {},
   "number_sections": false,
   "sideBar": false,
   "skip_h1_title": false,
   "title_cell": "Table of Contents",
   "title_sidebar": "Contents",
   "toc_cell": false,
   "toc_position": {},
   "toc_section_display": true,
   "toc_window_display": false
  }
 },
 "nbformat": 4,
 "nbformat_minor": 5
}
